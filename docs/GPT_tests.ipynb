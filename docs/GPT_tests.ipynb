{
 "cells": [
  {
   "metadata": {},
   "cell_type": "markdown",
   "source": "# Сравнение запросов для работы с GPT от Yandex и OpenAI",
   "id": "844cdcf8287b1cb1"
  },
  {
   "metadata": {
    "ExecuteTime": {
     "end_time": "2024-05-23T11:07:50.194316Z",
     "start_time": "2024-05-23T11:07:49.364618Z"
    }
   },
   "cell_type": "code",
   "source": "!pip install python-dotenv",
   "id": "e385144a5d0454c9",
   "outputs": [
    {
     "name": "stdout",
     "output_type": "stream",
     "text": [
      "Requirement already satisfied: python-dotenv in /Users/master/Dropbox/Code cloud/Python/Middle Python/AirM2MidPy/Diplma/graduate-work/graduate_work/.venv/lib/python3.10/site-packages (1.0.1)\r\n"
     ]
    }
   ],
   "execution_count": 4
  },
  {
   "metadata": {},
   "cell_type": "markdown",
   "source": "Импортируем настройки для работы с yandex и openai",
   "id": "b311395efe47b3dd"
  },
  {
   "metadata": {
    "ExecuteTime": {
     "end_time": "2024-05-23T11:10:59.652424Z",
     "start_time": "2024-05-23T11:10:59.634350Z"
    }
   },
   "cell_type": "code",
   "source": [
    "from pydantic_settings import BaseSettings\n",
    "import logging\n",
    "from dotenv import load_dotenv\n",
    "import os\n",
    "\n",
    "load_dotenv(dotenv_path='../.env')\n",
    "\n",
    "log_levels = {\n",
    "    'DEBUG': logging.DEBUG,\n",
    "    'INFO': logging.INFO,\n",
    "    'WARNING': logging.WARNING,\n",
    "    'ERROR': logging.ERROR\n",
    "}\n",
    "\n",
    "\n",
    "\n",
    "class Settings(BaseSettings):\n",
    "    api_name: str = \"NLP API\"\n",
    "    logging_level: str = \"INFO\"\n",
    "\n",
    "    sentry_dsn: str = ...\n",
    "    sentry_enable_tracing: bool = True\n",
    "\n",
    "    elastic_host: str = ...\n",
    "    elastic_port: int = 9200\n",
    "    \n",
    "    project_name: str = ...\n",
    "    sqlite_path: str = ...\n",
    "    postgres_version: str = ...\n",
    "    postgres_ports: str = ...\n",
    "    postgres_port: str = ...\n",
    "    postgres_host: str = ...\n",
    "    postgres_user: str = ...\n",
    "    postgres_password: str = ...\n",
    "    postgres_schema_2: str = ...\n",
    "    postgres_db: str = ...\n",
    "    postgres_name: str = ...\n",
    "    elastic_movies_index: str = ...\n",
    "    stack_version: str = ...\n",
    "    elastic_cluster_name: str = ...\n",
    "    memory_lock: str = ...\n",
    "    elastic_ports: str = ...\n",
    "    redis_ports: str = ...\n",
    "    redis_host: str = ...\n",
    "    redis_port: str = ...\n",
    "    logstash_ports1: str = ...\n",
    "    logstash_ports2: str = ...\n",
    "    logstash_ports3: str = ...\n",
    "    kibana_ports: str = ...\n",
    "    es_public_host: str = ...\n",
    "    logstash_public_host: str = ...\n",
    "    logstash_host: str = ...\n",
    "    logstash_port: str = ...\n",
    "    kibana_public_host: str = ...\n",
    "    kibana_public_url: str = ...\n",
    "    elasticsearch_host: str = ...\n",
    "    es_url: str = ...\n",
    "    \n",
    "    yc_api_key: str = ...\n",
    "\n",
    "    def get_logging_level(self) -> int:\n",
    "        return log_levels.get(self.logging_level, logging.INFO)\n",
    "\n",
    "    class Config:\n",
    "        env_file = '../.env'\n",
    "\n",
    "\n",
    "settings = Settings()"
   ],
   "id": "288a9ed6f497a61f",
   "outputs": [],
   "execution_count": 7
  },
  {
   "metadata": {
    "ExecuteTime": {
     "end_time": "2024-05-23T11:18:35.874390Z",
     "start_time": "2024-05-23T11:18:35.871173Z"
    }
   },
   "cell_type": "code",
   "source": [
    "from langchain import LLMChain, PromptTemplate\n",
    "from langchain_community.vectorstores import ElasticVectorSearch\n",
    "from langchain_community.llms import YandexGPT\n",
    "import time"
   ],
   "id": "af64e087e1738522",
   "outputs": [],
   "execution_count": 14
  },
  {
   "metadata": {},
   "cell_type": "markdown",
   "source": "# YANDEX GPT 3",
   "id": "9ce4460c5521a707"
  },
  {
   "metadata": {},
   "cell_type": "markdown",
   "source": "## Пробуем запросить готовый запрос для Elasticsearch на английском языке",
   "id": "2a1dbb359b8e238f"
  },
  {
   "metadata": {
    "ExecuteTime": {
     "end_time": "2024-05-23T11:18:51.069976Z",
     "start_time": "2024-05-23T11:18:38.238894Z"
    }
   },
   "cell_type": "code",
   "source": [
    "template = \"\"\"\n",
    "You are an assistant that converts natural language queries into Elasticsearch queries.\n",
    "Convert the following natural language query to an Elasticsearch query:\n",
    "\n",
    "Query: {query}\n",
    "\n",
    "Please translate any lanquage to english if needed. Write please only the Elasticsearch query.\n",
    "\n",
    "There are 3 indices: movies, genres and persons. Persons could be directors or actors.\n",
    "\"\"\"\n",
    "\n",
    "prompt = PromptTemplate(template=template, input_variables=[\"query\"])\n",
    "llm = YandexGPT(api_key=settings.yc_api_key,\n",
    "                model_uri=\"gpt://b1gsfbseql2uigg6q996/yandexgpt/latest\")\n",
    "llm_chain = prompt | llm\n",
    "current_time = time.time()\n",
    "query = \"Найти фильмы с участием актера Джонни Деппа\"\n",
    "\n",
    "elasticsearch_query = llm_chain.invoke(query)\n",
    "print (f'Время выполнения: {time.time() - current_time} секунд')\n",
    "print('='*10)\n",
    "print(elasticsearch_query)\n"
   ],
   "id": "b783cd1f878705a3",
   "outputs": [
    {
     "name": "stdout",
     "output_type": "stream",
     "text": [
      "Время выполнения: 12.824540853500366 секунд\n",
      "==========\n",
      "`{\"query\": {\"match\": {\"persons.name\": \"Джонни Депп\"}}}`\n"
     ]
    }
   ],
   "execution_count": 15
  },
  {
   "metadata": {},
   "cell_type": "code",
   "outputs": [],
   "execution_count": null,
   "source": "",
   "id": "19933d6addd9af20"
  },
  {
   "metadata": {},
   "cell_type": "markdown",
   "source": [
    "Время выполнения более 4,5 секунд. Нас не устраивает такой результат.\n",
    "\n",
    "Также не переводятся запросы\n",
    "\n",
    "## Пробуем запросить готовый запрос для Elasticsearch на руссом языке"
   ],
   "id": "5cbb4b00922704b0"
  },
  {
   "metadata": {
    "ExecuteTime": {
     "end_time": "2024-05-23T11:21:38.985Z",
     "start_time": "2024-05-23T11:21:29.741376Z"
    }
   },
   "cell_type": "code",
   "source": [
    "template = \"\"\"\n",
    "Вы помощник, который преобразует запросы на естественном языке в запросы Elasticsearch.\n",
    "Преобразуйте следующий запрос на естественном языке в запрос Elasticsearch:\n",
    "\n",
    "Запрос: {query}\n",
    "\n",
    "Пожалуйста, переведите любой язык на английский, если это необходимо. Напишите, пожалуйста, только запрос Elasticsearch.\n",
    "\n",
    "Существует 3 индекса: movies (фильмы), genres (жанры) и persons (люди). Люди могут быть режиссерами или актерами.\n",
    "\"\"\"\n",
    "\n",
    "prompt = PromptTemplate(template=template, input_variables=[\"query\"])\n",
    "llm = YandexGPT(api_key=settings.yc_api_key,\n",
    "                model_uri=\"gpt://b1gsfbseql2uigg6q996/yandexgpt/latest\")\n",
    "llm_chain = prompt | llm\n",
    "current_time = time.time()\n",
    "query = \"Найти фильмы с участием актера Джонни Деппа\"\n",
    "\n",
    "elasticsearch_query = llm_chain.invoke(query)\n",
    "print (f'Время выполнения: {time.time() - current_time} секунд')\n",
    "print('='*10)\n",
    "print(elasticsearch_query)\n"
   ],
   "id": "9a3ecabf9483bac0",
   "outputs": [
    {
     "name": "stdout",
     "output_type": "stream",
     "text": [
      "Время выполнения: 9.2378408908844 секунд\n",
      "==========\n",
      "```\n",
      "{\n",
      "  \"query\": {\n",
      "    \"term\": {\n",
      "      \"persons.name\": \"Johnny Depp\"\n",
      "    }\n",
      "  },\n",
      "  \"size\": 10,\n",
      "  \"from\": 0,\n",
      "  \"_source\": \"title\",\n",
      "  \"sort\": [\n",
      "    {\n",
      "      \"_score\": {\n",
      "        \"order\": \"desc\"\n",
      "      }\n",
      "    }\n",
      "  ],\n",
      "  \"aggs\": {\n",
      "    \"genres\": {\n",
      "      \"terms\": {\n",
      "        \"field\": \"genres.id\"\n",
      "      },\n",
      "      \"size\": 5\n",
      "    }\n",
      "  }\n",
      "}\n",
      "```\n"
     ]
    }
   ],
   "execution_count": 16
  },
  {
   "metadata": {},
   "cell_type": "markdown",
   "source": [
    "Время выполнения запроса на руссом языке более 4,5 секунд. Нас не устраивает такой результат.\n",
    "Хотя воспиятие запроса лучше"
   ],
   "id": "d75f32cabd0595fe"
  },
  {
   "metadata": {
    "ExecuteTime": {
     "end_time": "2024-05-23T11:22:41.096657Z",
     "start_time": "2024-05-23T11:22:41.092358Z"
    }
   },
   "cell_type": "code",
   "source": "## Вынесем объявление LLM в отдельную ячейку",
   "id": "5649b34e01b074e4",
   "outputs": [],
   "execution_count": 17
  },
  {
   "metadata": {
    "ExecuteTime": {
     "end_time": "2024-05-23T16:55:48.408030Z",
     "start_time": "2024-05-23T16:55:48.404424Z"
    }
   },
   "cell_type": "code",
   "source": [
    "llm = YandexGPT(api_key=settings.yc_api_key,\n",
    "                model_uri=\"gpt://b1gsfbseql2uigg6q996/yandexgpt/latest\",\n",
    "                top_p=0.1,\n",
    "                temperature=0.1,\n",
    "                max_tokens=20)"
   ],
   "id": "69e1a4930a77e014",
   "outputs": [],
   "execution_count": 77
  },
  {
   "metadata": {
    "ExecuteTime": {
     "end_time": "2024-05-23T11:32:37.186246Z",
     "start_time": "2024-05-23T11:32:29.285965Z"
    }
   },
   "cell_type": "code",
   "source": [
    "template = \"\"\"\n",
    "Определи с поиском чего связан следущий запрос: поиск фильмов, поиск жанров или поиск персон.\n",
    "Запрос: {query}\n",
    "Если ты сомневаешься — отвечай none.\n",
    "У тебя есть 4 варианта ответа: movies, genres, persons, none. Ответь, пожалуйста, одним словом.\n",
    "\"\"\"\n",
    "prompt = PromptTemplate(template=template, input_variables=[\"query\"])\n",
    "llm_chain = prompt | llm\n",
    "current_time = time.time()\n",
    "queries = [\"Найти фильмы с участием актера Джонни Деппа\",\n",
    "           \"Найти фильмы без титров\",\n",
    "           \"Найти улиточек с именем Наталии Деппа\",\n",
    "           \"Что-нибудь про войну\"]\n",
    "\n",
    "for query in queries:\n",
    "    current_time = time.time()\n",
    "    search_type = llm_chain.invoke(query)\n",
    "    print(f'Время выполнения: {time.time() - current_time} секунд')\n",
    "    print(search_type)\n",
    "    print('=' * 10)\n",
    "\n",
    "\n"
   ],
   "id": "1aba70ae878feaa5",
   "outputs": [
    {
     "name": "stdout",
     "output_type": "stream",
     "text": [
      "Время выполнения: 1.5709388256072998 секунд\n",
      "movies\n",
      "==========\n",
      "Время выполнения: 1.1903228759765625 секунд\n",
      "movies\n",
      "==========\n",
      "Время выполнения: 2.8684239387512207 секунд\n",
      "persons\n",
      "==========\n",
      "Время выполнения: 2.262669801712036 секунд\n",
      "movies\n",
      "==========\n"
     ]
    }
   ],
   "execution_count": 34
  },
  {
   "metadata": {},
   "cell_type": "markdown",
   "source": "Скорость ответа уже преемлемая\n",
   "id": "2a02f6ca4df70432"
  },
  {
   "metadata": {
    "ExecuteTime": {
     "end_time": "2024-05-23T11:36:37.446670Z",
     "start_time": "2024-05-23T11:36:27.474111Z"
    }
   },
   "cell_type": "code",
   "source": [
    "template = \"\"\"\n",
    "Определи содержится ли в данном запросе уточнение по свойству: имя человека\n",
    "Запрос: {query}\n",
    "Если ты сомневаешься — отвечай none.\n",
    "Если есть — ответь через запятую строками для фильтра переведенными на английский язык.\n",
    "Без лишних слов, только значения фильтра через запятую или none\n",
    "\"\"\"\n",
    "prompt = PromptTemplate(template=template, input_variables=[\"query\"])\n",
    "llm_chain = prompt | llm\n",
    "current_time = time.time()\n",
    "queries = [\"Найти фильмы с участием актера Джонни Деппа\",\n",
    "           \"Найти фильмы без титров\",\n",
    "           \"Найти улиточек с именем Наталии Деппа\",\n",
    "           \"Что-нибудь про войну\"]\n",
    "\n",
    "for query in queries:\n",
    "    current_time = time.time()\n",
    "    search_type = llm_chain.invoke(query)\n",
    "    print(f'Время выполнения: {time.time() - current_time} секунд')\n",
    "    print(search_type)\n",
    "    print('=' * 10)\n",
    "\n",
    "\n"
   ],
   "id": "f3d36f4a9ae1d3",
   "outputs": [
    {
     "name": "stdout",
     "output_type": "stream",
     "text": [
      "Время выполнения: 2.1643247604370117 секунд\n",
      "Johnny Depp\n",
      "==========\n",
      "Время выполнения: 2.9543960094451904 секунд\n",
      "none\n",
      "==========\n",
      "Время выполнения: 3.769972801208496 секунд\n",
      "«snail, name = «Natalia Depp».\n",
      "==========\n",
      "Время выполнения: 1.0787639617919922 секунд\n",
      "none\n",
      "==========\n"
     ]
    }
   ],
   "execution_count": 36
  },
  {
   "metadata": {
    "ExecuteTime": {
     "end_time": "2024-05-23T11:39:48.983438Z",
     "start_time": "2024-05-23T11:39:42.834062Z"
    }
   },
   "cell_type": "code",
   "source": [
    "template = \"\"\"\n",
    "Определи содержится ли в данном запросе уточнение по упорядочиванию результатов по рейтингу\n",
    "Запрос: {query}\n",
    "Если ты сомневаешься — отвечай none.\n",
    "Отвечай отднословно: asc, desc или none\n",
    "\"\"\"\n",
    "prompt = PromptTemplate(template=template, input_variables=[\"query\"])\n",
    "llm_chain = prompt | llm\n",
    "current_time = time.time()\n",
    "queries = [\"Найти фильмы с участием актера Джонни Деппа\",\n",
    "           \"Найти фильмы без титров\",\n",
    "           \"Найти улиточек с именем Наталии Деппа\",\n",
    "           \"Что-нибудь про войну c высоким рейтингом\"]\n",
    "\n",
    "for query in queries:\n",
    "    current_time = time.time()\n",
    "    search_type = llm_chain.invoke(query)\n",
    "    print(f'Время выполнения: {time.time() - current_time} секунд')\n",
    "    print(search_type)\n",
    "    print('=' * 10)\n",
    "\n",
    "\n"
   ],
   "id": "1b3cb005f60d2fda",
   "outputs": [
    {
     "name": "stdout",
     "output_type": "stream",
     "text": [
      "Время выполнения: 2.474492311477661 секунд\n",
      "none\n",
      "==========\n",
      "Время выполнения: 1.1037812232971191 секунд\n",
      "none\n",
      "==========\n",
      "Время выполнения: 1.4105260372161865 секунд\n",
      "none\n",
      "==========\n",
      "Время выполнения: 1.1551711559295654 секунд\n",
      "desc\n",
      "==========\n"
     ]
    }
   ],
   "execution_count": 40
  },
  {
   "metadata": {
    "ExecuteTime": {
     "end_time": "2024-05-23T11:41:22.627331Z",
     "start_time": "2024-05-23T11:41:11.491213Z"
    }
   },
   "cell_type": "code",
   "source": [
    "template = \"\"\"\n",
    "Определи содержится ли в данном запросе уточнение по дате выхода фильма\n",
    "Запрос: {query}\n",
    "Если ты сомневаешься — отвечай none.\n",
    "Отвечай в формате: gte:2020-01-01, lte:2021-01-01 или none\n",
    "\"\"\"\n",
    "prompt = PromptTemplate(template=template, input_variables=[\"query\"])\n",
    "llm_chain = prompt | llm\n",
    "current_time = time.time()\n",
    "queries = [\"Найти фильмы с участием актера Джонни Деппа\",\n",
    "           \"Найти фильмы без титров\",\n",
    "           \"Найти улиточек с именем Наталии Деппа после 2020 года\",\n",
    "           \"Что-нибудь про войну c высоким рейтингом\"]\n",
    "\n",
    "for query in queries:\n",
    "    current_time = time.time()\n",
    "    search_type = llm_chain.invoke(query)\n",
    "    print(f'Время выполнения: {time.time() - current_time} секунд')\n",
    "    print(search_type)\n",
    "    print('=' * 10)\n",
    "\n",
    "\n"
   ],
   "id": "7582424109c5abe5",
   "outputs": [
    {
     "name": "stdout",
     "output_type": "stream",
     "text": [
      "Время выполнения: 1.1772480010986328 секунд\n",
      "none\n",
      "==========\n",
      "Время выполнения: 5.230074882507324 секунд\n",
      "none\n",
      "==========\n",
      "Время выполнения: 2.9710099697113037 секунд\n",
      "gte:2020-01-01\n",
      "==========\n",
      "Время выполнения: 1.7493548393249512 секунд\n",
      "none\n",
      "==========\n"
     ]
    }
   ],
   "execution_count": 41
  },
  {
   "metadata": {
    "ExecuteTime": {
     "end_time": "2024-05-23T11:42:46.057370Z",
     "start_time": "2024-05-23T11:42:29.519086Z"
    }
   },
   "cell_type": "code",
   "source": [
    "template = \"\"\"\n",
    "Определи содержится ли в данном запросе уточнение по жанру или жанрам фильма\n",
    "Запрос: {query}\n",
    "Если ты сомневаешься — отвечай none.\n",
    "допустимые значения: action, adventure, animation, biography, comedy, crime, drama, family, fantasy, history, horror, music, musical, mystery, romance, sci-fi, sport, thriller, war, western\n",
    "Отвечай в формате: значений через запятую или none\n",
    "\"\"\"\n",
    "prompt = PromptTemplate(template=template, input_variables=[\"query\"])\n",
    "llm_chain = prompt | llm\n",
    "current_time = time.time()\n",
    "queries = [\"Найти фильмы с участием актера Джонни Деппа\",\n",
    "           \"Найти фильмы без титров\",\n",
    "           \"Найти улиточек с именем Наталии Деппа после 2020 года\",\n",
    "           \"Что-нибудь про войну c высоким рейтингом\"]\n",
    "\n",
    "for query in queries:\n",
    "    current_time = time.time()\n",
    "    search_type = llm_chain.invoke(query)\n",
    "    print(f'Время выполнения: {time.time() - current_time} секунд')\n",
    "    print(search_type)\n",
    "    print('=' * 10)\n",
    "\n",
    "\n"
   ],
   "id": "52f3952263adcdde",
   "outputs": [
    {
     "name": "stdout",
     "output_type": "stream",
     "text": [
      "Время выполнения: 1.5728259086608887 секунд\n",
      "none\n",
      "==========\n",
      "Время выполнения: 7.150744199752808 секунд\n",
      "none\n",
      "==========\n",
      "Время выполнения: 6.534531116485596 секунд\n",
      "none\n",
      "==========\n",
      "Время выполнения: 1.2712318897247314 секунд\n",
      "war\n",
      "==========\n"
     ]
    }
   ],
   "execution_count": 42
  },
  {
   "metadata": {
    "ExecuteTime": {
     "end_time": "2024-05-23T16:58:18.228133Z",
     "start_time": "2024-05-23T16:58:02.439029Z"
    }
   },
   "cell_type": "code",
   "source": [
    "template = \"\"\"\n",
    "Определи содержатся ли в запросе слова, которые могут быть частью названия фильма\n",
    "\n",
    "Если такие есть — перечисли их через запятую на английском. Если нет или сомневаешься — none\n",
    "Отвечай в формате слова через запятую или none. Без окружающего текста и пояснений.\n",
    "\n",
    "Запрос: {query}\n",
    "\"\"\"\n",
    "prompt = PromptTemplate(template=template, input_variables=[\"query\"])\n",
    "llm_chain = prompt | llm\n",
    "current_time = time.time()\n",
    "queries = [\"Найти фильмы про звездные войны\",\n",
    "           \"Фильм спиздили\",\n",
    "           \"Найти мультфильмы про звездные войны\",\n",
    "           \"Что-нибудь про войну c высоким рейтингом\"]\n",
    "\n",
    "for query in queries:\n",
    "    current_time = time.time()\n",
    "    search_type = llm_chain.invoke(query)\n",
    "    print(f'Время выполнения: {time.time() - current_time} секунд')\n",
    "    print(search_type)\n",
    "    print('=' * 10)\n",
    "\n",
    "\n"
   ],
   "id": "10cd5e6e5edfd00e",
   "outputs": [
    {
     "name": "stdout",
     "output_type": "stream",
     "text": [
      "Время выполнения: 1.811396837234497 секунд\n",
      "Star, Wars\n",
      "==========\n",
      "Время выполнения: 6.643424034118652 секунд\n",
      "none\n",
      "==========\n",
      "Время выполнения: 1.3858659267425537 секунд\n",
      "Star, Wars\n",
      "==========\n",
      "Время выполнения: 5.940780162811279 секунд\n",
      "none\n",
      "==========\n"
     ]
    }
   ],
   "execution_count": 80
  },
  {
   "metadata": {
    "ExecuteTime": {
     "end_time": "2024-05-23T17:01:36.987218Z",
     "start_time": "2024-05-23T17:01:18.848677Z"
    }
   },
   "cell_type": "code",
   "source": [
    "template = \"\"\"\n",
    "Определи содержатся ли в запросе слова, которые могут быть частью описания фильма\n",
    "\n",
    "Если такие есть — перечисли их через запятую на английском. Если нет или сомневаешься — none\n",
    "Отвечай в формате слова через запятую или none. Без окружающего текста и пояснений.\n",
    "\n",
    "Запрос: {query}\n",
    "\"\"\"\n",
    "prompt = PromptTemplate(template=template, input_variables=[\"query\"])\n",
    "llm_chain = prompt | llm\n",
    "current_time = time.time()\n",
    "queries = [\"Найти фильмы про звездные войны\",\n",
    "           \"Фильм спиздили\",\n",
    "           \"Найти улиточек с именем Наталии Деппа после 2020 года\",\n",
    "           \"Что-нибудь про войну c высоким рейтингом\"]\n",
    "\n",
    "for query in queries:\n",
    "    current_time = time.time()\n",
    "    search_type = llm_chain.invoke(query)\n",
    "    print(f'Время выполнения: {time.time() - current_time} секунд')\n",
    "    print(search_type)\n",
    "    print('=' * 10)\n",
    "\n",
    "\n"
   ],
   "id": "dc20e719c50d5659",
   "outputs": [
    {
     "name": "stdout",
     "output_type": "stream",
     "text": [
      "Время выполнения: 10.689929008483887 секунд\n",
      "Star, Wars\n",
      "==========\n",
      "Время выполнения: 2.6427369117736816 секунд\n",
      "К сожалению, я не могу ничего сказать об этом. Давайте сменим тему?\n",
      "==========\n",
      "Время выполнения: 1.220548152923584 секунд\n",
      "none\n",
      "==========\n",
      "Время выполнения: 3.5765650272369385 секунд\n",
      "war\n",
      "==========\n"
     ]
    }
   ],
   "execution_count": 82
  },
  {
   "metadata": {},
   "cell_type": "markdown",
   "source": "# YANDEX GPT 2",
   "id": "a89afe7875391814"
  },
  {
   "metadata": {
    "ExecuteTime": {
     "end_time": "2024-05-23T17:02:56.031654Z",
     "start_time": "2024-05-23T17:02:56.023910Z"
    }
   },
   "cell_type": "code",
   "source": [
    "llm = YandexGPT(api_key=settings.yc_api_key,\n",
    "                model_uri=\"gpt://b1gsfbseql2uigg6q996/yandexgpt-lite/latest\",\n",
    "                top_p=0.1,\n",
    "                temperature=0.1,\n",
    "                max_tokens=20)"
   ],
   "id": "78a68f7b326786b3",
   "outputs": [],
   "execution_count": 83
  },
  {
   "metadata": {
    "ExecuteTime": {
     "end_time": "2024-05-23T12:02:23.844294Z",
     "start_time": "2024-05-23T12:02:18.895988Z"
    }
   },
   "cell_type": "code",
   "source": [
    "template = \"\"\"\n",
    "Определи с поиском чего связан следущий запрос: поиск фильмов, поиск жанров или поиск персон.\n",
    "Запрос: {query}\n",
    "Если ты сомневаешься — отвечай none.\n",
    "У тебя есть 4 варианта ответа: movies, genres, persons, none. Ответь, пожалуйста, одним словом.\n",
    "\"\"\"\n",
    "prompt = PromptTemplate(template=template, input_variables=[\"query\"])\n",
    "llm_chain = prompt | llm\n",
    "current_time = time.time()\n",
    "queries = [\"Найти фильмы с участием актера Джонни Деппа\",\n",
    "           \"Найти фильмы без титров\",\n",
    "           \"Найти улиточек с именем Наталии Деппа\",\n",
    "           \"Что-нибудь про войну\"]\n",
    "\n",
    "for query in queries:\n",
    "    current_time = time.time()\n",
    "    search_type = llm_chain.invoke(query)\n",
    "    print(f'Время выполнения: {time.time() - current_time} секунд')\n",
    "    print(search_type)\n",
    "    print('=' * 10)\n",
    "\n",
    "\n"
   ],
   "id": "233c65605eda65a3",
   "outputs": [
    {
     "name": "stdout",
     "output_type": "stream",
     "text": [
      "Время выполнения: 1.2113327980041504 секунд\n",
      "movies\n",
      "==========\n",
      "Время выполнения: 1.196167230606079 секунд\n",
      "movies\n",
      "==========\n",
      "Время выполнения: 1.3221569061279297 секунд\n",
      "none\n",
      "==========\n",
      "Время выполнения: 1.2123713493347168 секунд\n",
      "movies\n",
      "==========\n"
     ]
    }
   ],
   "execution_count": 44
  },
  {
   "metadata": {
    "ExecuteTime": {
     "end_time": "2024-05-23T12:02:38.100979Z",
     "start_time": "2024-05-23T12:02:32.671854Z"
    }
   },
   "cell_type": "code",
   "source": [
    "template = \"\"\"\n",
    "Определи содержится ли в данном запросе уточнение по свойству: имя человека\n",
    "Запрос: {query}\n",
    "Если ты сомневаешься — отвечай none.\n",
    "Если есть — ответь через запятую строками для фильтра переведенными на английский язык.\n",
    "Без лишних слов, только значения фильтра через запятую или none\n",
    "\"\"\"\n",
    "prompt = PromptTemplate(template=template, input_variables=[\"query\"])\n",
    "llm_chain = prompt | llm\n",
    "current_time = time.time()\n",
    "queries = [\"Найти фильмы с участием актера Джонни Деппа\",\n",
    "           \"Найти фильмы без титров\",\n",
    "           \"Найти улиточек с именем Наталии Деппа\",\n",
    "           \"Что-нибудь про войну\"]\n",
    "\n",
    "for query in queries:\n",
    "    current_time = time.time()\n",
    "    search_type = llm_chain.invoke(query)\n",
    "    print(f'Время выполнения: {time.time() - current_time} секунд')\n",
    "    print(search_type)\n",
    "    print('=' * 10)\n",
    "\n",
    "\n"
   ],
   "id": "f8003ef5d83ead96",
   "outputs": [
    {
     "name": "stdout",
     "output_type": "stream",
     "text": [
      "Время выполнения: 1.5996289253234863 секунд\n",
      "none\n",
      "==========\n",
      "Время выполнения: 1.2463340759277344 секунд\n",
      "В данном запросе нет уточнения по свойству «имя человека».\n",
      "\n",
      "Если вы имели в виду\n",
      "==========\n",
      "Время выполнения: 1.176764965057373 секунд\n",
      "В данном запросе нет уточнения по свойству «имя человека».\n",
      "\n",
      "Если вы имели в виду\n",
      "==========\n",
      "Время выполнения: 1.4015171527862549 секунд\n",
      "none\n",
      "\n",
      "Если вы имели в виду что-то другое, уточните запрос, пожалуйста.\n",
      "==========\n"
     ]
    }
   ],
   "execution_count": 45
  },
  {
   "metadata": {
    "ExecuteTime": {
     "end_time": "2024-05-23T12:03:03.609440Z",
     "start_time": "2024-05-23T12:02:56.851398Z"
    }
   },
   "cell_type": "code",
   "source": [
    "template = \"\"\"\n",
    "Определи содержится ли в данном запросе уточнение по упорядочиванию результатов по рейтингу\n",
    "Запрос: {query}\n",
    "Если ты сомневаешься — отвечай none.\n",
    "Отвечай отднословно: asc, desc или none\n",
    "\"\"\"\n",
    "prompt = PromptTemplate(template=template, input_variables=[\"query\"])\n",
    "llm_chain = prompt | llm\n",
    "current_time = time.time()\n",
    "queries = [\"Найти фильмы с участием актера Джонни Деппа\",\n",
    "           \"Найти фильмы без титров\",\n",
    "           \"Найти улиточек с именем Наталии Деппа\",\n",
    "           \"Что-нибудь про войну c высоким рейтингом\"]\n",
    "\n",
    "for query in queries:\n",
    "    current_time = time.time()\n",
    "    search_type = llm_chain.invoke(query)\n",
    "    print(f'Время выполнения: {time.time() - current_time} секунд')\n",
    "    print(search_type)\n",
    "    print('=' * 10)\n",
    "\n",
    "\n"
   ],
   "id": "f39326845151ff8b",
   "outputs": [
    {
     "name": "stdout",
     "output_type": "stream",
     "text": [
      "Время выполнения: 3.6064298152923584 секунд\n",
      "none\n",
      "==========\n",
      "Время выполнения: 1.1230320930480957 секунд\n",
      "Если запрос звучит так, как вы его привели, и нет дополнительных уточнений, то ответ **none\n",
      "==========\n",
      "Время выполнения: 0.974682092666626 секунд\n",
      "none\n",
      "==========\n",
      "Время выполнения: 1.0474810600280762 секунд\n",
      "Если предположить, что по контексту запроса речь идёт о запросе к поисковой системе, то уточнение по\n",
      "==========\n"
     ]
    }
   ],
   "execution_count": 46
  },
  {
   "metadata": {
    "ExecuteTime": {
     "end_time": "2024-05-23T12:03:19.337412Z",
     "start_time": "2024-05-23T12:03:14.795191Z"
    }
   },
   "cell_type": "code",
   "source": [
    "template = \"\"\"\n",
    "Определи содержится ли в данном запросе уточнение по дате выхода фильма\n",
    "Запрос: {query}\n",
    "Если ты сомневаешься — отвечай none.\n",
    "Отвечай в формате: gte:2020-01-01, lte:2021-01-01 или none\n",
    "\"\"\"\n",
    "prompt = PromptTemplate(template=template, input_variables=[\"query\"])\n",
    "llm_chain = prompt | llm\n",
    "current_time = time.time()\n",
    "queries = [\"Найти фильмы с участием актера Джонни Деппа\",\n",
    "           \"Найти фильмы без титров\",\n",
    "           \"Найти улиточек с именем Наталии Деппа после 2020 года\",\n",
    "           \"Что-нибудь про войну c высоким рейтингом\"]\n",
    "\n",
    "for query in queries:\n",
    "    current_time = time.time()\n",
    "    search_type = llm_chain.invoke(query)\n",
    "    print(f'Время выполнения: {time.time() - current_time} секунд')\n",
    "    print(search_type)\n",
    "    print('=' * 10)\n",
    "\n",
    "\n"
   ],
   "id": "e0c8e593d782fe34",
   "outputs": [
    {
     "name": "stdout",
     "output_type": "stream",
     "text": [
      "Время выполнения: 1.0497169494628906 секунд\n",
      "none\n",
      "==========\n",
      "Время выполнения: 1.3605351448059082 секунд\n",
      "none\n",
      "==========\n",
      "Время выполнения: 1.0176358222961426 секунд\n",
      "none\n",
      "==========\n",
      "Время выполнения: 1.1078910827636719 секунд\n",
      "none\n",
      "==========\n"
     ]
    }
   ],
   "execution_count": 47
  },
  {
   "metadata": {
    "ExecuteTime": {
     "end_time": "2024-05-23T12:03:42.566632Z",
     "start_time": "2024-05-23T12:03:28.194470Z"
    }
   },
   "cell_type": "code",
   "source": [
    "template = \"\"\"\n",
    "Определи содержится ли в данном запросе уточнение по жанру или жанрам фильма\n",
    "Запрос: {query}\n",
    "Если ты сомневаешься — отвечай none.\n",
    "допустимые значения: action, adventure, animation, biography, comedy, crime, drama, family, fantasy, history, horror, music, musical, mystery, romance, sci-fi, sport, thriller, war, western\n",
    "Отвечай в формате: значений через запятую или none\n",
    "\"\"\"\n",
    "prompt = PromptTemplate(template=template, input_variables=[\"query\"])\n",
    "llm_chain = prompt | llm\n",
    "current_time = time.time()\n",
    "queries = [\"Найти фильмы с участием актера Джонни Деппа\",\n",
    "           \"Найти фильмы без титров\",\n",
    "           \"Найти улиточек с именем Наталии Деппа после 2020 года\",\n",
    "           \"Что-нибудь про войну c высоким рейтингом\"]\n",
    "\n",
    "for query in queries:\n",
    "    current_time = time.time()\n",
    "    search_type = llm_chain.invoke(query)\n",
    "    print(f'Время выполнения: {time.time() - current_time} секунд')\n",
    "    print(search_type)\n",
    "    print('=' * 10)\n",
    "\n",
    "\n"
   ],
   "id": "fddae334629fd6a",
   "outputs": [
    {
     "name": "stdout",
     "output_type": "stream",
     "text": [
      "Время выполнения: 1.1000089645385742 секунд\n",
      "none\n",
      "==========\n",
      "Время выполнения: 1.4413621425628662 секунд\n",
      "none\n",
      "==========\n",
      "Время выполнения: 10.614950180053711 секунд\n",
      "none\n",
      "==========\n",
      "Время выполнения: 1.210057020187378 секунд\n",
      "action, war\n",
      "==========\n"
     ]
    }
   ],
   "execution_count": 48
  },
  {
   "metadata": {
    "ExecuteTime": {
     "end_time": "2024-05-23T17:03:08.733182Z",
     "start_time": "2024-05-23T17:03:01.333812Z"
    }
   },
   "cell_type": "code",
   "source": [
    "template = \"\"\"\n",
    "Определи содержатся ли в запросе слова, которые могут быть частью названия фильма\n",
    "\n",
    "Если такие есть — перечисли их через запятую на английском. Если нет или сомневаешься — none\n",
    "Отвечай в формате слова через запятую или none. Без окружающего текста и пояснений.\n",
    "\n",
    "Запрос: {query}\n",
    "\"\"\"\n",
    "prompt = PromptTemplate(template=template, input_variables=[\"query\"])\n",
    "llm_chain = prompt | llm\n",
    "current_time = time.time()\n",
    "queries = [\"Найти фильмы про звездные войны\",\n",
    "           \"Фильм спиздили\",\n",
    "           \"Найти мультфильмы про звездные войны\",\n",
    "           \"Что-нибудь про войну c высоким рейтингом\"]\n",
    "\n",
    "for query in queries:\n",
    "    current_time = time.time()\n",
    "    search_type = llm_chain.invoke(query)\n",
    "    print(f'Время выполнения: {time.time() - current_time} секунд')\n",
    "    print(search_type)\n",
    "    print('=' * 10)\n",
    "\n",
    "\n"
   ],
   "id": "25350b620cd51166",
   "outputs": [
    {
     "name": "stdout",
     "output_type": "stream",
     "text": [
      "Время выполнения: 3.706592082977295 секунд\n",
      "none\n",
      "==========\n",
      "Время выполнения: 1.270448923110962 секунд\n",
      "none\n",
      "==========\n",
      "Время выполнения: 1.3024439811706543 секунд\n",
      "none\n",
      "==========\n",
      "Время выполнения: 1.1147210597991943 секунд\n",
      "**none**\n",
      "==========\n"
     ]
    }
   ],
   "execution_count": 84
  },
  {
   "metadata": {
    "ExecuteTime": {
     "end_time": "2024-05-23T17:03:12.906055Z",
     "start_time": "2024-05-23T17:03:08.736352Z"
    }
   },
   "cell_type": "code",
   "source": [
    "template = \"\"\"\n",
    "Определи содержатся ли в запросе слова, которые могут быть частью описания фильма\n",
    "\n",
    "Если такие есть — перечисли их через запятую на английском. Если нет или сомневаешься — none\n",
    "Отвечай в формате слова через запятую или none. Без окружающего текста и пояснений.\n",
    "\n",
    "Запрос: {query}\n",
    "\"\"\"\n",
    "prompt = PromptTemplate(template=template, input_variables=[\"query\"])\n",
    "llm_chain = prompt | llm\n",
    "current_time = time.time()\n",
    "queries = [\"Найти фильмы про звездные войны\",\n",
    "           \"Фильм спиздили\",\n",
    "           \"Найти улиточек с именем Наталии Деппа после 2020 года\",\n",
    "           \"Что-нибудь про войну c высоким рейтингом\"]\n",
    "\n",
    "for query in queries:\n",
    "    current_time = time.time()\n",
    "    search_type = llm_chain.invoke(query)\n",
    "    print(f'Время выполнения: {time.time() - current_time} секунд')\n",
    "    print(search_type)\n",
    "    print('=' * 10)\n",
    "\n",
    "\n"
   ],
   "id": "d38a1714b0f7dc8d",
   "outputs": [
    {
     "name": "stdout",
     "output_type": "stream",
     "text": [
      "Время выполнения: 0.8195781707763672 секунд\n",
      "none\n",
      "==========\n",
      "Время выполнения: 0.8576440811157227 секунд\n",
      "none\n",
      "==========\n",
      "Время выполнения: 1.3117640018463135 секунд\n",
      "**none**\n",
      "==========\n",
      "Время выполнения: 1.171189546585083 секунд\n",
      "combat, drama, historical, war\n",
      "==========\n"
     ]
    }
   ],
   "execution_count": 85
  },
  {
   "metadata": {},
   "cell_type": "code",
   "outputs": [],
   "execution_count": null,
   "source": "",
   "id": "99ed7540bef6944d"
  }
 ],
 "metadata": {
  "kernelspec": {
   "display_name": "Python 3",
   "language": "python",
   "name": "python3"
  },
  "language_info": {
   "codemirror_mode": {
    "name": "ipython",
    "version": 2
   },
   "file_extension": ".py",
   "mimetype": "text/x-python",
   "name": "python",
   "nbconvert_exporter": "python",
   "pygments_lexer": "ipython2",
   "version": "2.7.6"
  }
 },
 "nbformat": 4,
 "nbformat_minor": 5
}
