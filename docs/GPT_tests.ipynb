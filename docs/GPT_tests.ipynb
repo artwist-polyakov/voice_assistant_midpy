{
 "cells": [
  {
   "metadata": {},
   "cell_type": "markdown",
   "source": "# Сравнение запросов для работы с GPT от Yandex и OpenAI",
   "id": "844cdcf8287b1cb1"
  },
  {
   "metadata": {
    "ExecuteTime": {
     "end_time": "2024-05-23T11:07:50.194316Z",
     "start_time": "2024-05-23T11:07:49.364618Z"
    }
   },
   "cell_type": "code",
   "source": "!pip install python-dotenv",
   "id": "e385144a5d0454c9",
   "execution_count": 4,
   "outputs": []
  },
  {
   "metadata": {},
   "cell_type": "markdown",
   "source": "Импортируем настройки для работы с yandex и openai",
   "id": "b311395efe47b3dd"
  },
  {
   "metadata": {
    "ExecuteTime": {
     "end_time": "2024-06-02T20:11:59.838180Z",
     "start_time": "2024-06-02T20:11:59.747357Z"
    }
   },
   "cell_type": "code",
   "source": [
    "from pydantic_settings import BaseSettings\n",
    "import logging\n",
    "from dotenv import load_dotenv\n",
    "import os\n",
    "\n",
    "load_dotenv(dotenv_path='../.env')\n",
    "\n",
    "log_levels = {\n",
    "    'DEBUG': logging.DEBUG,\n",
    "    'INFO': logging.INFO,\n",
    "    'WARNING': logging.WARNING,\n",
    "    'ERROR': logging.ERROR\n",
    "}\n",
    "\n",
    "\n",
    "\n",
    "class Settings(BaseSettings):\n",
    "    api_name: str = \"NLP API\"\n",
    "    logging_level: str = \"INFO\"\n",
    "\n",
    "    sentry_dsn: str = ...\n",
    "    sentry_enable_tracing: bool = True\n",
    "\n",
    "    elastic_host: str = ...\n",
    "    elastic_port: int = 9200\n",
    "    \n",
    "    project_name: str = ...\n",
    "    sqlite_path: str = ...\n",
    "    postgres_version: str = ...\n",
    "    postgres_ports: str = ...\n",
    "    postgres_port: str = ...\n",
    "    postgres_host: str = ...\n",
    "    postgres_user: str = ...\n",
    "    postgres_password: str = ...\n",
    "    postgres_schema_2: str = ...\n",
    "    postgres_db: str = ...\n",
    "    postgres_name: str = ...\n",
    "    elastic_movies_index: str = ...\n",
    "    stack_version: str = ...\n",
    "    elastic_cluster_name: str = ...\n",
    "    memory_lock: str = ...\n",
    "    elastic_ports: str = ...\n",
    "    redis_ports: str = ...\n",
    "    redis_host: str = ...\n",
    "    redis_port: str = ...\n",
    "    logstash_ports1: str = ...\n",
    "    logstash_ports2: str = ...\n",
    "    logstash_ports3: str = ...\n",
    "    kibana_ports: str = ...\n",
    "    es_public_host: str = ...\n",
    "    logstash_public_host: str = ...\n",
    "    logstash_host: str = ...\n",
    "    logstash_port: str = ...\n",
    "    kibana_public_host: str = ...\n",
    "    kibana_public_url: str = ...\n",
    "    elasticsearch_host: str = ...\n",
    "    es_url: str = ...\n",
    "    \n",
    "    rabbit_mq_version: str = ...\n",
    "    rabbit_mq_ports: str = ...\n",
    "    rabbit_mq_amqp_ports: str = ...\n",
    "    rabbit_mq_amqp_port: str = ...\n",
    "    rabbit_mq_port: str = ...\n",
    "    rabbit_mq_host: str = ...\n",
    "    rabbit_mq_user: str = ...\n",
    "    rabbit_mq_password: str = ...\n",
    "    rabbit_mq_subject_queue: str = ...\n",
    "    rabbit_mq_actor_queue: str = ...\n",
    "    rabbit_mq_director_queue: str = ...\n",
    "    rabbit_mq_rating_order_queue: str = ...\n",
    "    rabbit_mq_genre_filter_queue: str = ...\n",
    "    rabbit_mq_date_filter_queue: str = ...\n",
    "    rabbit_mq_title_text_queue: str = ...\n",
    "    rabbit_mq_description_text_queue: str = ...\n",
    "    rabbit_mq_exchange: str = ...\n",
    "    \n",
    "    yc_api_key: str = ...\n",
    "    ya_gpt_model: str = ...\n",
    "    reka_api_key: str = ...\n",
    "    claude_api_key: str = ...\n",
    "\n",
    "    def get_logging_level(self) -> int:\n",
    "        return log_levels.get(self.logging_level, logging.INFO)\n",
    "\n",
    "    class Config:\n",
    "        env_file = '../.env'\n",
    "\n",
    "\n",
    "settings = Settings()"
   ],
   "id": "288a9ed6f497a61f",
   "outputs": [],
   "execution_count": 1
  },
  {
   "metadata": {
    "ExecuteTime": {
     "end_time": "2024-06-02T20:12:02.185508Z",
     "start_time": "2024-06-02T20:12:01.915982Z"
    }
   },
   "cell_type": "code",
   "source": [
    "from langchain import LLMChain, PromptTemplate\n",
    "from langchain_community.vectorstores import ElasticVectorSearch\n",
    "from langchain_community.llms import YandexGPT\n",
    "import time"
   ],
   "id": "af64e087e1738522",
   "outputs": [],
   "execution_count": 2
  },
  {
   "metadata": {},
   "cell_type": "markdown",
   "source": "# YANDEX GPT 3",
   "id": "9ce4460c5521a707"
  },
  {
   "metadata": {},
   "cell_type": "markdown",
   "source": "## Пробуем запросить готовый запрос для Elasticsearch на английском языке",
   "id": "2a1dbb359b8e238f"
  },
  {
   "metadata": {
    "ExecuteTime": {
     "end_time": "2024-06-02T20:12:06.938104Z",
     "start_time": "2024-06-02T20:12:04.309817Z"
    }
   },
   "cell_type": "code",
   "source": [
    "template = \"\"\"\n",
    "You are an assistant that converts natural language queries into Elasticsearch queries.\n",
    "Convert the following natural language query to an Elasticsearch query:\n",
    "\n",
    "Query: {query}\n",
    "\n",
    "Please translate any lanquage to english if needed. Write please only the Elasticsearch query.\n",
    "\n",
    "There are 3 indices: movies, genres and persons. Persons could be directors or actors.\n",
    "\"\"\"\n",
    "\n",
    "prompt = PromptTemplate(template=template, input_variables=[\"query\"])\n",
    "llm = YandexGPT(api_key=settings.yc_api_key,\n",
    "                model_uri=\"gpt://b1gsfbseql2uigg6q996/yandexgpt/latest\")\n",
    "llm_chain = prompt | llm\n",
    "current_time = time.time()\n",
    "query = \"Найти фильмы с участием актера Джонни Деппа\"\n",
    "\n",
    "elasticsearch_query = llm_chain.invoke(query)\n",
    "print (f'Время выполнения: {time.time() - current_time} секунд')\n",
    "print('='*10)\n",
    "print(elasticsearch_query)\n"
   ],
   "id": "b783cd1f878705a3",
   "outputs": [
    {
     "name": "stdout",
     "output_type": "stream",
     "text": [
      "Время выполнения: 2.6231157779693604 секунд\n",
      "==========\n",
      "```\n",
      "{\n",
      "  \"query\": {\n",
      "    \"match\": {\n",
      "      \"persons.name\": \"Джонни Депп\"\n",
      "    }\n",
      "  },\n",
      "  \"size\": 20,\n",
      "  \"from\": 0,\n",
      "  \"_source\": [\"title\", \"release_year\"]\n",
      "}\n",
      "```\n"
     ]
    }
   ],
   "execution_count": 3
  },
  {
   "metadata": {},
   "cell_type": "code",
   "execution_count": null,
   "source": "",
   "id": "19933d6addd9af20",
   "outputs": []
  },
  {
   "metadata": {},
   "cell_type": "markdown",
   "source": [
    "Время выполнения более 4,5 секунд. Нас не устраивает такой результат.\n",
    "\n",
    "Также не переводятся запросы\n",
    "\n",
    "## Пробуем запросить готовый запрос для Elasticsearch на руссом языке"
   ],
   "id": "5cbb4b00922704b0"
  },
  {
   "metadata": {
    "ExecuteTime": {
     "end_time": "2024-06-02T20:12:28.374947Z",
     "start_time": "2024-06-02T20:12:22.794272Z"
    }
   },
   "cell_type": "code",
   "source": [
    "template = \"\"\"\n",
    "Вы помощник, который преобразует запросы на естественном языке в запросы Elasticsearch.\n",
    "Преобразуйте следующий запрос на естественном языке в запрос Elasticsearch:\n",
    "\n",
    "Запрос: {query}\n",
    "\n",
    "Пожалуйста, переведите любой язык на английский, если это необходимо. Напишите, пожалуйста, только запрос Elasticsearch.\n",
    "\n",
    "Существует 3 индекса: movies (фильмы), genres (жанры) и persons (люди). Люди могут быть режиссерами или актерами.\n",
    "\"\"\"\n",
    "\n",
    "prompt = PromptTemplate(template=template, input_variables=[\"query\"])\n",
    "llm = YandexGPT(api_key=settings.yc_api_key,\n",
    "                model_uri=\"gpt://b1gsfbseql2uigg6q996/yandexgpt/latest\")\n",
    "llm_chain = prompt | llm\n",
    "current_time = time.time()\n",
    "query = \"Найти фильмы с участием актера Джонни Деппа\"\n",
    "\n",
    "elasticsearch_query = llm_chain.invoke(query)\n",
    "print (f'Время выполнения: {time.time() - current_time} секунд')\n",
    "print('='*10)\n",
    "print(elasticsearch_query)\n"
   ],
   "id": "9a3ecabf9483bac0",
   "outputs": [
    {
     "name": "stdout",
     "output_type": "stream",
     "text": [
      "Время выполнения: 5.577401876449585 секунд\n",
      "==========\n",
      "Вот запрос Elasticsearch для поиска фильмов с участием актёра Джонни Деппа:\n",
      "\n",
      "```elasticsearch\n",
      "{\n",
      "  \"query\": {\n",
      "    \"term\": {\n",
      "      \"persons.name\": \"Johnny Depp\"\n",
      "    }\n",
      "  },\n",
      "  \"size\": 10,\n",
      "  \"from\": 0,\n",
      "  \"sort\": [\n",
      "    \"_score\"\n",
      "  ],\n",
      "  \"aggs\": {},\n",
      "  \"filter\": {}\n",
      "}\n",
      "```\n",
      "\n",
      "Этот запрос будет искать документы в индексе `movies`, которые содержат информацию об актёре с именем Johnny Depp (Джонни Депп) в поле `persons.name`. Размер возвращаемого результата устанавливается равным 10 документам.\n"
     ]
    }
   ],
   "execution_count": 4
  },
  {
   "metadata": {},
   "cell_type": "markdown",
   "source": [
    "Время выполнения запроса на руссом языке более 4,5 секунд. Нас не устраивает такой результат.\n",
    "Хотя воспиятие запроса лучше"
   ],
   "id": "d75f32cabd0595fe"
  },
  {
   "metadata": {
    "ExecuteTime": {
     "end_time": "2024-05-23T11:22:41.096657Z",
     "start_time": "2024-05-23T11:22:41.092358Z"
    }
   },
   "cell_type": "code",
   "source": "## Вынесем объявление LLM в отдельную ячейку",
   "id": "5649b34e01b074e4",
   "execution_count": 17,
   "outputs": []
  },
  {
   "metadata": {
    "ExecuteTime": {
     "end_time": "2024-06-02T20:14:22.635952Z",
     "start_time": "2024-06-02T20:14:22.633801Z"
    }
   },
   "cell_type": "code",
   "source": [
    "llm = YandexGPT(api_key=settings.yc_api_key,\n",
    "                model_uri=\"gpt://b1gsfbseql2uigg6q996/yandexgpt/latest\",\n",
    "                top_p=0.1,\n",
    "                temperature=0.1,\n",
    "                max_tokens=20)"
   ],
   "id": "69e1a4930a77e014",
   "outputs": [],
   "execution_count": 5
  },
  {
   "metadata": {
    "ExecuteTime": {
     "end_time": "2024-06-02T20:14:31.919599Z",
     "start_time": "2024-06-02T20:14:26.759538Z"
    }
   },
   "cell_type": "code",
   "source": [
    "template = \"\"\"\n",
    "Определи с поиском чего связан следущий запрос: поиск фильмов, поиск жанров или поиск персон.\n",
    "Запрос: {query}\n",
    "Если ты сомневаешься — отвечай none.\n",
    "У тебя есть 4 варианта ответа: movies, genres, persons, none. Ответь, пожалуйста, одним словом.\n",
    "\"\"\"\n",
    "prompt = PromptTemplate(template=template, input_variables=[\"query\"])\n",
    "llm_chain = prompt | llm\n",
    "current_time = time.time()\n",
    "queries = [\"Найти фильмы с участием актера Джонни Деппа\",\n",
    "           \"Найти фильмы без титров\",\n",
    "           \"Найти улиточек с именем Наталии Деппа\",\n",
    "           \"Что-нибудь про войну\"]\n",
    "\n",
    "for query in queries:\n",
    "    current_time = time.time()\n",
    "    search_type = llm_chain.invoke(query)\n",
    "    print(f'Время выполнения: {time.time() - current_time} секунд')\n",
    "    print(search_type)\n",
    "    print('=' * 10)\n",
    "\n",
    "\n"
   ],
   "id": "1aba70ae878feaa5",
   "outputs": [
    {
     "name": "stdout",
     "output_type": "stream",
     "text": [
      "Время выполнения: 1.2684009075164795 секунд\n",
      "movies\n",
      "==========\n",
      "Время выполнения: 1.6781799793243408 секунд\n",
      "movies\n",
      "==========\n",
      "Время выполнения: 1.157608985900879 секунд\n",
      "persons\n",
      "==========\n",
      "Время выполнения: 1.0520851612091064 секунд\n",
      "movies\n",
      "==========\n"
     ]
    }
   ],
   "execution_count": 6
  },
  {
   "metadata": {},
   "cell_type": "markdown",
   "source": "Скорость ответа уже преемлемая\n",
   "id": "2a02f6ca4df70432"
  },
  {
   "metadata": {
    "ExecuteTime": {
     "end_time": "2024-05-24T20:15:48.393856Z",
     "start_time": "2024-05-24T20:15:43.486093Z"
    }
   },
   "cell_type": "code",
   "source": [
    "template = \"\"\"\n",
    "Определи содержится ли в данном запросе уточнение по свойству: имя человека\n",
    "Запрос: {query}\n",
    "Если ты сомневаешься — отвечай none.\n",
    "Если есть — ответь через запятую строками для фильтра переведенными на английский язык.\n",
    "Без лишних слов, имена людей через запятую или none. Например Joe Lucas, Natalie Portman.\n",
    "\"\"\"\n",
    "prompt = PromptTemplate(template=template, input_variables=[\"query\"])\n",
    "llm_chain = prompt | llm\n",
    "current_time = time.time()\n",
    "queries = [\"Найти фильмы с участием актера Джонни Деппа\",\n",
    "           \"Найти фильмы без титров\",\n",
    "           \"Найти улиточек с именем Наталии Деппа\",\n",
    "           \"Что-нибудь про войну\"]\n",
    "\n",
    "for query in queries:\n",
    "    current_time = time.time()\n",
    "    search_type = llm_chain.invoke(query)\n",
    "    print(f'Время выполнения: {time.time() - current_time} секунд')\n",
    "    print(search_type)\n",
    "    print('=' * 10)\n",
    "\n",
    "\n"
   ],
   "id": "f3d36f4a9ae1d3",
   "execution_count": 37,
   "outputs": []
  },
  {
   "metadata": {
    "ExecuteTime": {
     "end_time": "2024-05-28T14:29:33.539377Z",
     "start_time": "2024-05-28T14:29:21.450912Z"
    }
   },
   "cell_type": "code",
   "source": [
    "template = \"\"\"\n",
    "Ты компьютер, который выдаёт в командную строку список актёров через зяпятую из запроса.\n",
    "Определи содержится ли в данном запросе уточнение по имени актёра.\n",
    "Запрос: {query}\n",
    "Если ты сомневаешься — отвечай none.\n",
    "Если есть — ответь через запятую строками для фильтра переведенными на английский язык.\n",
    "Без лишних слов, имена актёров через запятую или none. Например: Nikolas Cage, Natalie Portman.\n",
    "\"\"\"\n",
    "prompt = PromptTemplate(template=template, input_variables=[\"query\"])\n",
    "llm_chain = prompt | llm\n",
    "current_time = time.time()\n",
    "queries = [\"Найти фильмы джоржа лукаса\",\n",
    "           \"Найти фильмы без титров\",\n",
    "           \"Найти улиточек с именем Наталии Деппа\",\n",
    "           \"Что-нибудь про войну\"]\n",
    "\n",
    "for query in queries:\n",
    "    current_time = time.time()\n",
    "    search_type = llm_chain.invoke(query)\n",
    "    print(f'Время выполнения: {time.time() - current_time} секунд')\n",
    "    print(search_type)\n",
    "    print('=' * 10)\n",
    "\n"
   ],
   "id": "469f7b96b021770e",
   "execution_count": 36,
   "outputs": []
  },
  {
   "metadata": {
    "ExecuteTime": {
     "end_time": "2024-05-28T14:36:45.403178Z",
     "start_time": "2024-05-28T14:36:36.911947Z"
    }
   },
   "cell_type": "code",
   "source": [
    "template = \"\"\"\n",
    "Ты компьютер, который выдаёт в командную строку список режиссеров через зяпятую из запроса.\n",
    "Определи содержится ли в данном запросе уточнение по имени режиссера.\n",
    "Запрос: {query}\n",
    "Если ты сомневаешься — отвечай none.\n",
    "Если есть — ответь через запятую строками для фильтра переведенными на английский язык.\n",
    "Без лишних слов, имена актёров через запятую или none. Например: Quentin Tarantino, Nikolas Cage.\n",
    "\"\"\"\n",
    "prompt = PromptTemplate(template=template, input_variables=[\"query\"])\n",
    "llm_chain = prompt | llm\n",
    "current_time = time.time()\n",
    "queries = [\"Найти фильмы джоржа лукаса\",\n",
    "           \"Найти фильмы без титров\",\n",
    "           \"Найти улиточек с именем Наталии Деппа\",\n",
    "           \"Что-нибудь про войну\"]\n",
    "\n",
    "for query in queries:\n",
    "    current_time = time.time()\n",
    "    search_type = llm_chain.invoke(query)\n",
    "    print(f'Время выполнения: {time.time() - current_time} секунд')\n",
    "    print(search_type)\n",
    "    print('=' * 10)\n",
    "\n"
   ],
   "id": "620dbfb8a6477979",
   "execution_count": 37,
   "outputs": []
  },
  {
   "metadata": {
    "ExecuteTime": {
     "end_time": "2024-05-23T11:39:48.983438Z",
     "start_time": "2024-05-23T11:39:42.834062Z"
    }
   },
   "cell_type": "code",
   "source": [
    "template = \"\"\"\n",
    "Определи содержится ли в данном запросе уточнение по упорядочиванию результатов по рейтингу\n",
    "Запрос: {query}\n",
    "Если ты сомневаешься — отвечай none.\n",
    "Отвечай отднословно: asc, desc или none\n",
    "\"\"\"\n",
    "prompt = PromptTemplate(template=template, input_variables=[\"query\"])\n",
    "llm_chain = prompt | llm\n",
    "current_time = time.time()\n",
    "queries = [\"Найти фильмы с участием актера Джонни Деппа\",\n",
    "           \"Найти фильмы без титров\",\n",
    "           \"Найти улиточек с именем Наталии Деппа\",\n",
    "           \"Что-нибудь про войну c высоким рейтингом\"]\n",
    "\n",
    "for query in queries:\n",
    "    current_time = time.time()\n",
    "    search_type = llm_chain.invoke(query)\n",
    "    print(f'Время выполнения: {time.time() - current_time} секунд')\n",
    "    print(search_type)\n",
    "    print('=' * 10)\n",
    "\n",
    "\n"
   ],
   "id": "1b3cb005f60d2fda",
   "execution_count": 40,
   "outputs": []
  },
  {
   "metadata": {
    "ExecuteTime": {
     "end_time": "2024-05-23T11:41:22.627331Z",
     "start_time": "2024-05-23T11:41:11.491213Z"
    }
   },
   "cell_type": "code",
   "source": [
    "template = \"\"\"\n",
    "Определи содержится ли в данном запросе уточнение по дате выхода фильма\n",
    "Запрос: {query}\n",
    "Если ты сомневаешься — отвечай none.\n",
    "Отвечай в формате: gte:2020-01-01, lte:2021-01-01 или none\n",
    "\"\"\"\n",
    "prompt = PromptTemplate(template=template, input_variables=[\"query\"])\n",
    "llm_chain = prompt | llm\n",
    "current_time = time.time()\n",
    "queries = [\"Найти фильмы с участием актера Джонни Деппа\",\n",
    "           \"Найти фильмы без титров\",\n",
    "           \"Найти улиточек с именем Наталии Деппа после 2020 года\",\n",
    "           \"Что-нибудь про войну c высоким рейтингом\"]\n",
    "\n",
    "for query in queries:\n",
    "    current_time = time.time()\n",
    "    search_type = llm_chain.invoke(query)\n",
    "    print(f'Время выполнения: {time.time() - current_time} секунд')\n",
    "    print(search_type)\n",
    "    print('=' * 10)\n",
    "\n",
    "\n"
   ],
   "id": "7582424109c5abe5",
   "execution_count": 41,
   "outputs": []
  },
  {
   "metadata": {
    "ExecuteTime": {
     "end_time": "2024-05-28T15:43:43.517247Z",
     "start_time": "2024-05-28T15:43:38.210511Z"
    }
   },
   "cell_type": "code",
   "source": [
    "template = \"\"\"\n",
    "Определи содержится ли в данном запросе уточнение по жанру или жанрам фильма\n",
    "Запрос: {query}\n",
    "Если ты сомневаешься — отвечай none.\n",
    "допустимые значения: Action, Adventure, Fantasy, Sci-Fi, Drama, Music, Romance, Thriller, Mystery, Comedy, Animation, Family, Biography, Musical, Crime, Short, Western, Documentary, History, War, Game-Show, Reality-TV, Horror, Sport, Talk-Show, News\n",
    "Отвечай в формате: значений через запятую или none\n",
    "\"\"\"\n",
    "prompt = PromptTemplate(template=template, input_variables=[\"query\"])\n",
    "llm_chain = prompt | llm\n",
    "current_time = time.time()\n",
    "queries = [\"Найти фильмы с участием актера Джонни Деппа\",\n",
    "           \"Найти фильмы без титров\",\n",
    "           \"Найти улиточек с именем Наталии Деппа после 2020 года\",\n",
    "           \"Что-нибудь про войну c высоким рейтингом\"]\n",
    "\n",
    "for query in queries:\n",
    "    current_time = time.time()\n",
    "    search_type = llm_chain.invoke(query)\n",
    "    print(f'Время выполнения: {time.time() - current_time} секунд')\n",
    "    print(search_type)\n",
    "    print('=' * 10)\n",
    "\n",
    "\n"
   ],
   "id": "52f3952263adcdde",
   "execution_count": 38,
   "outputs": []
  },
  {
   "metadata": {
    "ExecuteTime": {
     "end_time": "2024-05-24T19:48:01.609953Z",
     "start_time": "2024-05-24T19:47:56.657218Z"
    }
   },
   "cell_type": "code",
   "source": [
    "template = \"\"\"\n",
    "Определи содержатся ли в запросе слова, которые могут быть частью названия фильма\n",
    "\n",
    "Если такие есть — перечисли их через запятую на английском. Если нет или сомневаешься — none\n",
    "Отвечай в формате слова через запятую или none. Без окружающего текста и пояснений. Например: Star Wars, The Matrix.\n",
    "\n",
    "Запрос: {query}\n",
    "\"\"\"\n",
    "prompt = PromptTemplate(template=template, input_variables=[\"query\"])\n",
    "llm_chain = prompt | llm\n",
    "current_time = time.time()\n",
    "queries = [\"Найти фильмы про звездные войны\",\n",
    "           \"Фильм спиздили\",\n",
    "           \"Найти мультфильмы про звездные войны\",\n",
    "           \"Что-нибудь про войну c высоким рейтингом\"]\n",
    "\n",
    "for query in queries:\n",
    "    current_time = time.time()\n",
    "    search_type = llm_chain.invoke(query)\n",
    "    print(f'Время выполнения: {time.time() - current_time} секунд')\n",
    "    print(search_type)\n",
    "    print('=' * 10)\n",
    "\n",
    "\n"
   ],
   "id": "10cd5e6e5edfd00e",
   "execution_count": 14,
   "outputs": []
  },
  {
   "metadata": {
    "ExecuteTime": {
     "end_time": "2024-05-24T19:49:35.182986Z",
     "start_time": "2024-05-24T19:49:30.410933Z"
    }
   },
   "cell_type": "code",
   "source": [
    "template = \"\"\"\n",
    "Определи содержатся ли в запросе слова, которые могут быть частью описания фильма\n",
    "\n",
    "Если такие есть — перечисли их через запятую на английском. Если нет или сомневаешься — none\n",
    "Отвечай в формате слова через запятую или none. Без окружающего текста и пояснений.\n",
    "Например: Artist travels to the South или Best friends in the city.\n",
    "\n",
    "Запрос: {query}\n",
    "\"\"\"\n",
    "prompt = PromptTemplate(template=template, input_variables=[\"query\"])\n",
    "llm_chain = prompt | llm\n",
    "current_time = time.time()\n",
    "queries = [\"Найти фильмы про звездные войны\",\n",
    "           \"Фильм snatch\",\n",
    "           \"Найти улиточек с именем Наталии Деппа после 2020 года\",\n",
    "           \"Что-нибудь про войну c высоким рейтингом\"]\n",
    "\n",
    "for query in queries:\n",
    "    current_time = time.time()\n",
    "    search_type = llm_chain.invoke(query)\n",
    "    print(f'Время выполнения: {time.time() - current_time} секунд')\n",
    "    print(search_type)\n",
    "    print('=' * 10)\n",
    "\n",
    "\n"
   ],
   "id": "dc20e719c50d5659",
   "execution_count": 15,
   "outputs": []
  },
  {
   "metadata": {},
   "cell_type": "markdown",
   "source": "# YANDEX GPT 2",
   "id": "a89afe7875391814"
  },
  {
   "metadata": {
    "ExecuteTime": {
     "end_time": "2024-05-23T17:02:56.031654Z",
     "start_time": "2024-05-23T17:02:56.023910Z"
    }
   },
   "cell_type": "code",
   "source": [
    "llm = YandexGPT(api_key=settings.yc_api_key,\n",
    "                model_uri=\"gpt://b1gsfbseql2uigg6q996/yandexgpt-lite/latest\",\n",
    "                top_p=0.1,\n",
    "                temperature=0.1,\n",
    "                max_tokens=20)"
   ],
   "id": "78a68f7b326786b3",
   "execution_count": 83,
   "outputs": []
  },
  {
   "metadata": {
    "ExecuteTime": {
     "end_time": "2024-05-23T12:02:23.844294Z",
     "start_time": "2024-05-23T12:02:18.895988Z"
    }
   },
   "cell_type": "code",
   "source": [
    "template = \"\"\"\n",
    "Определи с поиском чего связан следущий запрос: поиск фильмов, поиск жанров или поиск персон.\n",
    "Запрос: {query}\n",
    "Если ты сомневаешься — отвечай none.\n",
    "У тебя есть 4 варианта ответа: movies, genres, persons, none. Ответь, пожалуйста, одним словом.\n",
    "\"\"\"\n",
    "prompt = PromptTemplate(template=template, input_variables=[\"query\"])\n",
    "llm_chain = prompt | llm\n",
    "current_time = time.time()\n",
    "queries = [\"Найти фильмы с участием актера Джонни Деппа\",\n",
    "           \"Найти фильмы без титров\",\n",
    "           \"Найти улиточек с именем Наталии Деппа\",\n",
    "           \"Что-нибудь про войну\"]\n",
    "\n",
    "for query in queries:\n",
    "    current_time = time.time()\n",
    "    search_type = llm_chain.invoke(query)\n",
    "    print(f'Время выполнения: {time.time() - current_time} секунд')\n",
    "    print(search_type)\n",
    "    print('=' * 10)\n",
    "\n",
    "\n"
   ],
   "id": "233c65605eda65a3",
   "execution_count": 44,
   "outputs": []
  },
  {
   "metadata": {
    "ExecuteTime": {
     "end_time": "2024-05-23T12:02:38.100979Z",
     "start_time": "2024-05-23T12:02:32.671854Z"
    }
   },
   "cell_type": "code",
   "source": [
    "template = \"\"\"\n",
    "Определи содержится ли в данном запросе уточнение по свойству: имя человека\n",
    "Запрос: {query}\n",
    "Если ты сомневаешься — отвечай none.\n",
    "Если есть — ответь через запятую строками для фильтра переведенными на английский язык.\n",
    "Без лишних слов, только значения фильтра через запятую или none\n",
    "\"\"\"\n",
    "prompt = PromptTemplate(template=template, input_variables=[\"query\"])\n",
    "llm_chain = prompt | llm\n",
    "current_time = time.time()\n",
    "queries = [\"Найти фильмы с участием актера Джонни Деппа\",\n",
    "           \"Найти фильмы без титров\",\n",
    "           \"Найти улиточек с именем Наталии Деппа\",\n",
    "           \"Что-нибудь про войну\"]\n",
    "\n",
    "for query in queries:\n",
    "    current_time = time.time()\n",
    "    search_type = llm_chain.invoke(query)\n",
    "    print(f'Время выполнения: {time.time() - current_time} секунд')\n",
    "    print(search_type)\n",
    "    print('=' * 10)\n",
    "\n",
    "\n"
   ],
   "id": "f8003ef5d83ead96",
   "execution_count": 45,
   "outputs": []
  },
  {
   "metadata": {
    "ExecuteTime": {
     "end_time": "2024-05-23T12:03:03.609440Z",
     "start_time": "2024-05-23T12:02:56.851398Z"
    }
   },
   "cell_type": "code",
   "source": [
    "template = \"\"\"\n",
    "Определи содержится ли в данном запросе уточнение по упорядочиванию результатов по рейтингу\n",
    "Запрос: {query}\n",
    "Если ты сомневаешься — отвечай none.\n",
    "Отвечай отднословно: asc, desc или none\n",
    "\"\"\"\n",
    "prompt = PromptTemplate(template=template, input_variables=[\"query\"])\n",
    "llm_chain = prompt | llm\n",
    "current_time = time.time()\n",
    "queries = [\"Найти фильмы с участием актера Джонни Деппа\",\n",
    "           \"Найти фильмы без титров\",\n",
    "           \"Найти улиточек с именем Наталии Деппа\",\n",
    "           \"Что-нибудь про войну c высоким рейтингом\"]\n",
    "\n",
    "for query in queries:\n",
    "    current_time = time.time()\n",
    "    search_type = llm_chain.invoke(query)\n",
    "    print(f'Время выполнения: {time.time() - current_time} секунд')\n",
    "    print(search_type)\n",
    "    print('=' * 10)\n",
    "\n",
    "\n"
   ],
   "id": "f39326845151ff8b",
   "execution_count": 46,
   "outputs": []
  },
  {
   "metadata": {
    "ExecuteTime": {
     "end_time": "2024-05-23T12:03:19.337412Z",
     "start_time": "2024-05-23T12:03:14.795191Z"
    }
   },
   "cell_type": "code",
   "source": [
    "template = \"\"\"\n",
    "Определи содержится ли в данном запросе уточнение по дате выхода фильма\n",
    "Запрос: {query}\n",
    "Если ты сомневаешься — отвечай none.\n",
    "Отвечай в формате: gte:2020-01-01, lte:2021-01-01 или none\n",
    "\"\"\"\n",
    "prompt = PromptTemplate(template=template, input_variables=[\"query\"])\n",
    "llm_chain = prompt | llm\n",
    "current_time = time.time()\n",
    "queries = [\"Найти фильмы с участием актера Джонни Деппа\",\n",
    "           \"Найти фильмы без титров\",\n",
    "           \"Найти улиточек с именем Наталии Деппа после 2020 года\",\n",
    "           \"Что-нибудь про войну c высоким рейтингом\"]\n",
    "\n",
    "for query in queries:\n",
    "    current_time = time.time()\n",
    "    search_type = llm_chain.invoke(query)\n",
    "    print(f'Время выполнения: {time.time() - current_time} секунд')\n",
    "    print(search_type)\n",
    "    print('=' * 10)\n",
    "\n",
    "\n"
   ],
   "id": "e0c8e593d782fe34",
   "execution_count": 47,
   "outputs": []
  },
  {
   "metadata": {
    "ExecuteTime": {
     "end_time": "2024-05-23T12:03:42.566632Z",
     "start_time": "2024-05-23T12:03:28.194470Z"
    }
   },
   "cell_type": "code",
   "source": [
    "template = \"\"\"\n",
    "Определи содержится ли в данном запросе уточнение по жанру или жанрам фильма\n",
    "Запрос: {query}\n",
    "Если ты сомневаешься — отвечай none.\n",
    "допустимые значения: action, adventure, animation, biography, comedy, crime, drama, family, fantasy, history, horror, music, musical, mystery, romance, sci-fi, sport, thriller, war, western\n",
    "Отвечай в формате: значений через запятую или none\n",
    "\"\"\"\n",
    "prompt = PromptTemplate(template=template, input_variables=[\"query\"])\n",
    "llm_chain = prompt | llm\n",
    "current_time = time.time()\n",
    "queries = [\"Найти фильмы с участием актера Джонни Деппа\",\n",
    "           \"Найти фильмы без титров\",\n",
    "           \"Найти улиточек с именем Наталии Деппа после 2020 года\",\n",
    "           \"Что-нибудь про войну c высоким рейтингом\"]\n",
    "\n",
    "for query in queries:\n",
    "    current_time = time.time()\n",
    "    search_type = llm_chain.invoke(query)\n",
    "    print(f'Время выполнения: {time.time() - current_time} секунд')\n",
    "    print(search_type)\n",
    "    print('=' * 10)\n",
    "\n",
    "\n"
   ],
   "id": "fddae334629fd6a",
   "execution_count": 48,
   "outputs": []
  },
  {
   "metadata": {
    "ExecuteTime": {
     "end_time": "2024-05-23T17:03:08.733182Z",
     "start_time": "2024-05-23T17:03:01.333812Z"
    }
   },
   "cell_type": "code",
   "source": [
    "template = \"\"\"\n",
    "Определи содержатся ли в запросе слова, которые могут быть частью названия фильма\n",
    "\n",
    "Если такие есть — перечисли их через запятую на английском. Если нет или сомневаешься — none\n",
    "Отвечай в формате слова через запятую или none. Без окружающего текста и пояснений.\n",
    "\n",
    "Запрос: {query}\n",
    "\"\"\"\n",
    "prompt = PromptTemplate(template=template, input_variables=[\"query\"])\n",
    "llm_chain = prompt | llm\n",
    "current_time = time.time()\n",
    "queries = [\"Найти фильмы про звездные войны\",\n",
    "           \"Фильм спиздили\",\n",
    "           \"Найти мультфильмы про звездные войны\",\n",
    "           \"Что-нибудь про войну c высоким рейтингом\"]\n",
    "\n",
    "for query in queries:\n",
    "    current_time = time.time()\n",
    "    search_type = llm_chain.invoke(query)\n",
    "    print(f'Время выполнения: {time.time() - current_time} секунд')\n",
    "    print(search_type)\n",
    "    print('=' * 10)\n",
    "\n",
    "\n"
   ],
   "id": "25350b620cd51166",
   "execution_count": 84,
   "outputs": []
  },
  {
   "metadata": {
    "ExecuteTime": {
     "end_time": "2024-05-23T17:03:12.906055Z",
     "start_time": "2024-05-23T17:03:08.736352Z"
    }
   },
   "cell_type": "code",
   "source": [
    "template = \"\"\"\n",
    "Определи содержатся ли в запросе слова, которые могут быть частью описания фильма\n",
    "\n",
    "Если такие есть — перечисли их через запятую на английском. Если нет или сомневаешься — none\n",
    "Отвечай в формате слова через запятую или none. Без окружающего текста и пояснений.\n",
    "\n",
    "Запрос: {query}\n",
    "\"\"\"\n",
    "prompt = PromptTemplate(template=template, input_variables=[\"query\"])\n",
    "llm_chain = prompt | llm\n",
    "current_time = time.time()\n",
    "queries = [\"Найти фильмы про звездные войны\",\n",
    "           \"Фильм спиздили\",\n",
    "           \"Найти улиточек с именем Наталии Деппа после 2020 года\",\n",
    "           \"Что-нибудь про войну c высоким рейтингом\"]\n",
    "\n",
    "for query in queries:\n",
    "    current_time = time.time()\n",
    "    search_type = llm_chain.invoke(query)\n",
    "    print(f'Время выполнения: {time.time() - current_time} секунд')\n",
    "    print(search_type)\n",
    "    print('=' * 10)\n",
    "\n",
    "\n"
   ],
   "id": "d38a1714b0f7dc8d",
   "execution_count": 85,
   "outputs": []
  },
  {
   "metadata": {},
   "cell_type": "markdown",
   "source": "# REKA",
   "id": "8baac179fed4aa9d"
  },
  {
   "metadata": {
    "ExecuteTime": {
     "end_time": "2024-05-24T20:04:19.663614Z",
     "start_time": "2024-05-24T20:04:17.629023Z"
    }
   },
   "cell_type": "code",
   "source": "!pip install reka-api",
   "id": "e9f3f829c8c1f6ab",
   "execution_count": 20,
   "outputs": []
  },
  {
   "metadata": {
    "ExecuteTime": {
     "end_time": "2024-05-24T20:04:40.820409Z",
     "start_time": "2024-05-24T20:04:40.800795Z"
    }
   },
   "cell_type": "code",
   "source": [
    "import reka\n",
    "reka.API_KEY = settings.reka_api_key"
   ],
   "id": "c57aae6a900d0fde",
   "execution_count": 21,
   "outputs": []
  },
  {
   "metadata": {
    "ExecuteTime": {
     "end_time": "2024-05-24T20:13:48.496370Z",
     "start_time": "2024-05-24T20:13:43.529429Z"
    }
   },
   "cell_type": "code",
   "source": [
    "template_string = \"\"\"\n",
    "Определи содержатся ли в запросе слова, которые могут быть частью описания фильма\n",
    "\n",
    "Если такие есть — перечисли их через запятую на английском. Если нет или сомневаешься — none\n",
    "Отвечай в формате слова через запятую или none. Без окружающего текста и пояснений.\n",
    "Например: Artist travels to the South или Best friends in the city.\n",
    "\n",
    "Запрос: \n",
    "\"\"\"\n",
    "queries = [\"Найти фильмы про звездные войны\",\n",
    "           \"Фильм snatch\",\n",
    "           \"Найти улиточек с именем Наталии Деппа после 2020 года\",\n",
    "           \"Что-нибудь про войну c высоким рейтингом\"]\n",
    "\n",
    "for query in queries:\n",
    "    current_time = time.time()\n",
    "    search_type = reka.chat(template_string + query, temperature=0.1, request_output_len=10)\n",
    "    print(f'Время выполнения: {time.time() - current_time} секунд')\n",
    "    print(search_type['text'].strip())\n",
    "    print('=' * 10)\n"
   ],
   "id": "14a5f5c171d543cc",
   "execution_count": 33,
   "outputs": []
  },
  {
   "metadata": {
    "ExecuteTime": {
     "end_time": "2024-05-24T20:13:18.014448Z",
     "start_time": "2024-05-24T20:13:15.128917Z"
    }
   },
   "cell_type": "code",
   "source": [
    "template_string = \"\"\"\n",
    "Определи с поиском чего связан следущий запрос: поиск фильмов, поиск жанров или поиск персон.\n",
    "\n",
    "Если ты сомневаешься — отвечай none.\n",
    "У тебя есть 4 варианта ответа: movies, genres, persons, none. Ответь, пожалуйста, одним словом.\n",
    "\n",
    "Запрос: \n",
    "\"\"\"\n",
    "queries = [\"Найти фильмы про звездные войны\",\n",
    "           \"Фильм snatch\",\n",
    "           \"Найти улиточек с именем Наталии Деппа после 2020 года\",\n",
    "           \"Что-нибудь про войну c высоким рейтингом\"]\n",
    "\n",
    "for query in queries:\n",
    "    current_time = time.time()\n",
    "    search_type = reka.chat(template_string + query, temperature=0.1, request_output_len=1)\n",
    "    print(f'Время выполнения: {time.time() - current_time} секунд')\n",
    "    print(search_type['text'].strip())\n",
    "    print('=' * 10)\n",
    "\n",
    "\n"
   ],
   "id": "d7ba779982229779",
   "execution_count": 31,
   "outputs": []
  },
  {
   "metadata": {
    "ExecuteTime": {
     "end_time": "2024-05-24T20:17:11.549928Z",
     "start_time": "2024-05-24T20:17:06.612422Z"
    }
   },
   "cell_type": "code",
   "source": [
    "template_string = \"\"\"\n",
    "Определи содержится ли в данном запросе уточнение по свойству: имя человека\n",
    "\n",
    "Если ты сомневаешься — отвечай none.\n",
    "Если есть — ответь через запятую строками для фильтра переведенными на английский язык.\n",
    "Без лишних слов, имена людей через запятую или none. Например Joe Lucas, Natalie Portman.\n",
    "Запрос: \n",
    "\"\"\"\n",
    "queries = [\"Найти фильмы про звездные войны\",\n",
    "           \"Фильм snatch\",\n",
    "           \"Найти улиточек с именем Наталии Деппа после 2020 года\",\n",
    "           \"Что-нибудь про войну c высоким рейтингом\"]\n",
    "\n",
    "for query in queries:\n",
    "    current_time = time.time()\n",
    "    search_type = reka.chat(template_string + query, temperature=0.1, request_output_len=10)\n",
    "    print(f'Время выполнения: {time.time() - current_time} секунд')\n",
    "    print(search_type['text'].strip())\n",
    "    print('=' * 10)\n",
    "\n",
    "\n"
   ],
   "id": "ce54cc12473992b1",
   "execution_count": 38,
   "outputs": []
  },
  {
   "metadata": {},
   "cell_type": "code",
   "execution_count": null,
   "source": "",
   "id": "2e9b7d1057379a2c",
   "outputs": []
  }
 ],
 "metadata": {
  "kernelspec": {
   "display_name": "Python 3",
   "language": "python",
   "name": "python3"
  },
  "language_info": {
   "codemirror_mode": {
    "name": "ipython",
    "version": 2
   },
   "file_extension": ".py",
   "mimetype": "text/x-python",
   "name": "python",
   "nbconvert_exporter": "python",
   "pygments_lexer": "ipython2",
   "version": "2.7.6"
  }
 },
 "nbformat": 4,
 "nbformat_minor": 5
}
