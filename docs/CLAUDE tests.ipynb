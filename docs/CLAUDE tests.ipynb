{
 "cells": [
  {
   "metadata": {},
   "cell_type": "markdown",
   "source": "# Проверяем запрос с помощью Claude",
   "id": "c532dd1fbe937a3e"
  },
  {
   "metadata": {
    "ExecuteTime": {
     "end_time": "2024-05-27T18:55:08.034755Z",
     "start_time": "2024-05-27T18:55:02.210131Z"
    }
   },
   "cell_type": "code",
   "source": "!pip install anthropic==0.26.1",
   "id": "f84bedacec6b43f3",
   "outputs": [
    {
     "name": "stdout",
     "output_type": "stream",
     "text": [
      "Collecting anthropic==0.26.1\r\n",
      "  Downloading anthropic-0.26.1-py3-none-any.whl.metadata (18 kB)\r\n",
      "Requirement already satisfied: anyio<5,>=3.5.0 in /Users/master/Dropbox/Code cloud/Python/Middle Python/ProM1MidPy/DIPLOMA/graduate_work/.venv/lib/python3.10/site-packages (from anthropic==0.26.1) (4.3.0)\r\n",
      "Collecting distro<2,>=1.7.0 (from anthropic==0.26.1)\r\n",
      "  Downloading distro-1.9.0-py3-none-any.whl.metadata (6.8 kB)\r\n",
      "Requirement already satisfied: httpx<1,>=0.23.0 in /Users/master/Dropbox/Code cloud/Python/Middle Python/ProM1MidPy/DIPLOMA/graduate_work/.venv/lib/python3.10/site-packages (from anthropic==0.26.1) (0.27.0)\r\n",
      "Collecting jiter<1,>=0.1.0 (from anthropic==0.26.1)\r\n",
      "  Downloading jiter-0.4.0-cp310-cp310-macosx_11_0_arm64.whl.metadata (3.6 kB)\r\n",
      "Requirement already satisfied: pydantic<3,>=1.9.0 in /Users/master/Dropbox/Code cloud/Python/Middle Python/ProM1MidPy/DIPLOMA/graduate_work/.venv/lib/python3.10/site-packages (from anthropic==0.26.1) (2.5.3)\r\n",
      "Requirement already satisfied: sniffio in /Users/master/Dropbox/Code cloud/Python/Middle Python/ProM1MidPy/DIPLOMA/graduate_work/.venv/lib/python3.10/site-packages (from anthropic==0.26.1) (1.3.1)\r\n",
      "Collecting tokenizers>=0.13.0 (from anthropic==0.26.1)\r\n",
      "  Downloading tokenizers-0.19.1-cp310-cp310-macosx_11_0_arm64.whl.metadata (6.7 kB)\r\n",
      "Requirement already satisfied: typing-extensions<5,>=4.7 in /Users/master/Dropbox/Code cloud/Python/Middle Python/ProM1MidPy/DIPLOMA/graduate_work/.venv/lib/python3.10/site-packages (from anthropic==0.26.1) (4.11.0)\r\n",
      "Requirement already satisfied: idna>=2.8 in /Users/master/Dropbox/Code cloud/Python/Middle Python/ProM1MidPy/DIPLOMA/graduate_work/.venv/lib/python3.10/site-packages (from anyio<5,>=3.5.0->anthropic==0.26.1) (3.7)\r\n",
      "Requirement already satisfied: exceptiongroup>=1.0.2 in /Users/master/Dropbox/Code cloud/Python/Middle Python/ProM1MidPy/DIPLOMA/graduate_work/.venv/lib/python3.10/site-packages (from anyio<5,>=3.5.0->anthropic==0.26.1) (1.2.1)\r\n",
      "Requirement already satisfied: certifi in /Users/master/Dropbox/Code cloud/Python/Middle Python/ProM1MidPy/DIPLOMA/graduate_work/.venv/lib/python3.10/site-packages (from httpx<1,>=0.23.0->anthropic==0.26.1) (2024.2.2)\r\n",
      "Requirement already satisfied: httpcore==1.* in /Users/master/Dropbox/Code cloud/Python/Middle Python/ProM1MidPy/DIPLOMA/graduate_work/.venv/lib/python3.10/site-packages (from httpx<1,>=0.23.0->anthropic==0.26.1) (1.0.5)\r\n",
      "Requirement already satisfied: h11<0.15,>=0.13 in /Users/master/Dropbox/Code cloud/Python/Middle Python/ProM1MidPy/DIPLOMA/graduate_work/.venv/lib/python3.10/site-packages (from httpcore==1.*->httpx<1,>=0.23.0->anthropic==0.26.1) (0.14.0)\r\n",
      "Requirement already satisfied: annotated-types>=0.4.0 in /Users/master/Dropbox/Code cloud/Python/Middle Python/ProM1MidPy/DIPLOMA/graduate_work/.venv/lib/python3.10/site-packages (from pydantic<3,>=1.9.0->anthropic==0.26.1) (0.6.0)\r\n",
      "Requirement already satisfied: pydantic-core==2.14.6 in /Users/master/Dropbox/Code cloud/Python/Middle Python/ProM1MidPy/DIPLOMA/graduate_work/.venv/lib/python3.10/site-packages (from pydantic<3,>=1.9.0->anthropic==0.26.1) (2.14.6)\r\n",
      "Collecting huggingface-hub<1.0,>=0.16.4 (from tokenizers>=0.13.0->anthropic==0.26.1)\r\n",
      "  Downloading huggingface_hub-0.23.2-py3-none-any.whl.metadata (12 kB)\r\n",
      "Collecting filelock (from huggingface-hub<1.0,>=0.16.4->tokenizers>=0.13.0->anthropic==0.26.1)\r\n",
      "  Downloading filelock-3.14.0-py3-none-any.whl.metadata (2.8 kB)\r\n",
      "Collecting fsspec>=2023.5.0 (from huggingface-hub<1.0,>=0.16.4->tokenizers>=0.13.0->anthropic==0.26.1)\r\n",
      "  Downloading fsspec-2024.5.0-py3-none-any.whl.metadata (11 kB)\r\n",
      "Requirement already satisfied: packaging>=20.9 in /Users/master/Dropbox/Code cloud/Python/Middle Python/ProM1MidPy/DIPLOMA/graduate_work/.venv/lib/python3.10/site-packages (from huggingface-hub<1.0,>=0.16.4->tokenizers>=0.13.0->anthropic==0.26.1) (23.2)\r\n",
      "Requirement already satisfied: pyyaml>=5.1 in /Users/master/Dropbox/Code cloud/Python/Middle Python/ProM1MidPy/DIPLOMA/graduate_work/.venv/lib/python3.10/site-packages (from huggingface-hub<1.0,>=0.16.4->tokenizers>=0.13.0->anthropic==0.26.1) (6.0.1)\r\n",
      "Requirement already satisfied: requests in /Users/master/Dropbox/Code cloud/Python/Middle Python/ProM1MidPy/DIPLOMA/graduate_work/.venv/lib/python3.10/site-packages (from huggingface-hub<1.0,>=0.16.4->tokenizers>=0.13.0->anthropic==0.26.1) (2.31.0)\r\n",
      "Requirement already satisfied: tqdm>=4.42.1 in /Users/master/Dropbox/Code cloud/Python/Middle Python/ProM1MidPy/DIPLOMA/graduate_work/.venv/lib/python3.10/site-packages (from huggingface-hub<1.0,>=0.16.4->tokenizers>=0.13.0->anthropic==0.26.1) (4.66.4)\r\n",
      "Requirement already satisfied: charset-normalizer<4,>=2 in /Users/master/Dropbox/Code cloud/Python/Middle Python/ProM1MidPy/DIPLOMA/graduate_work/.venv/lib/python3.10/site-packages (from requests->huggingface-hub<1.0,>=0.16.4->tokenizers>=0.13.0->anthropic==0.26.1) (3.3.2)\r\n",
      "Requirement already satisfied: urllib3<3,>=1.21.1 in /Users/master/Dropbox/Code cloud/Python/Middle Python/ProM1MidPy/DIPLOMA/graduate_work/.venv/lib/python3.10/site-packages (from requests->huggingface-hub<1.0,>=0.16.4->tokenizers>=0.13.0->anthropic==0.26.1) (2.2.1)\r\n",
      "Downloading anthropic-0.26.1-py3-none-any.whl (877 kB)\r\n",
      "\u001B[2K   \u001B[90m━━━━━━━━━━━━━━━━━━━━━━━━━━━━━━━━━━━━━━━━\u001B[0m \u001B[32m877.6/877.6 kB\u001B[0m \u001B[31m2.4 MB/s\u001B[0m eta \u001B[36m0:00:00\u001B[0ma \u001B[36m0:00:01\u001B[0mm\r\n",
      "\u001B[?25hDownloading distro-1.9.0-py3-none-any.whl (20 kB)\r\n",
      "Downloading jiter-0.4.0-cp310-cp310-macosx_11_0_arm64.whl (312 kB)\r\n",
      "\u001B[2K   \u001B[90m━━━━━━━━━━━━━━━━━━━━━━━━━━━━━━━━━━━━━━━━\u001B[0m \u001B[32m312.7/312.7 kB\u001B[0m \u001B[31m11.0 MB/s\u001B[0m eta \u001B[36m0:00:00\u001B[0m\r\n",
      "\u001B[?25hDownloading tokenizers-0.19.1-cp310-cp310-macosx_11_0_arm64.whl (2.4 MB)\r\n",
      "\u001B[2K   \u001B[90m━━━━━━━━━━━━━━━━━━━━━━━━━━━━━━━━━━━━━━━━\u001B[0m \u001B[32m2.4/2.4 MB\u001B[0m \u001B[31m13.7 MB/s\u001B[0m eta \u001B[36m0:00:00\u001B[0ma \u001B[36m0:00:01\u001B[0m\r\n",
      "\u001B[?25hDownloading huggingface_hub-0.23.2-py3-none-any.whl (401 kB)\r\n",
      "\u001B[2K   \u001B[90m━━━━━━━━━━━━━━━━━━━━━━━━━━━━━━━━━━━━━━━━\u001B[0m \u001B[32m401.7/401.7 kB\u001B[0m \u001B[31m24.8 MB/s\u001B[0m eta \u001B[36m0:00:00\u001B[0m\r\n",
      "\u001B[?25hDownloading fsspec-2024.5.0-py3-none-any.whl (316 kB)\r\n",
      "\u001B[2K   \u001B[90m━━━━━━━━━━━━━━━━━━━━━━━━━━━━━━━━━━━━━━━━\u001B[0m \u001B[32m316.1/316.1 kB\u001B[0m \u001B[31m20.3 MB/s\u001B[0m eta \u001B[36m0:00:00\u001B[0m\r\n",
      "\u001B[?25hDownloading filelock-3.14.0-py3-none-any.whl (12 kB)\r\n",
      "Installing collected packages: jiter, fsspec, filelock, distro, huggingface-hub, tokenizers, anthropic\r\n",
      "Successfully installed anthropic-0.26.1 distro-1.9.0 filelock-3.14.0 fsspec-2024.5.0 huggingface-hub-0.23.2 jiter-0.4.0 tokenizers-0.19.1\r\n"
     ]
    }
   ],
   "execution_count": 1
  },
  {
   "metadata": {
    "ExecuteTime": {
     "end_time": "2024-05-27T18:55:45.135502Z",
     "start_time": "2024-05-27T18:55:45.120532Z"
    }
   },
   "cell_type": "code",
   "source": [
    "from pydantic_settings import BaseSettings\n",
    "import logging\n",
    "from dotenv import load_dotenv\n",
    "import os\n",
    "\n",
    "load_dotenv(dotenv_path='../.env')\n",
    "\n",
    "log_levels = {\n",
    "    'DEBUG': logging.DEBUG,\n",
    "    'INFO': logging.INFO,\n",
    "    'WARNING': logging.WARNING,\n",
    "    'ERROR': logging.ERROR\n",
    "}\n",
    "\n",
    "\n",
    "\n",
    "class Settings(BaseSettings):\n",
    "    api_name: str = \"NLP API\"\n",
    "    logging_level: str = \"INFO\"\n",
    "\n",
    "    sentry_dsn: str = ...\n",
    "    sentry_enable_tracing: bool = True\n",
    "\n",
    "    elastic_host: str = ...\n",
    "    elastic_port: int = 9200\n",
    "    \n",
    "    project_name: str = ...\n",
    "    sqlite_path: str = ...\n",
    "    postgres_version: str = ...\n",
    "    postgres_ports: str = ...\n",
    "    postgres_port: str = ...\n",
    "    postgres_host: str = ...\n",
    "    postgres_user: str = ...\n",
    "    postgres_password: str = ...\n",
    "    postgres_schema_2: str = ...\n",
    "    postgres_db: str = ...\n",
    "    postgres_name: str = ...\n",
    "    elastic_movies_index: str = ...\n",
    "    stack_version: str = ...\n",
    "    elastic_cluster_name: str = ...\n",
    "    memory_lock: str = ...\n",
    "    elastic_ports: str = ...\n",
    "    redis_ports: str = ...\n",
    "    redis_host: str = ...\n",
    "    redis_port: str = ...\n",
    "    logstash_ports1: str = ...\n",
    "    logstash_ports2: str = ...\n",
    "    logstash_ports3: str = ...\n",
    "    kibana_ports: str = ...\n",
    "    es_public_host: str = ...\n",
    "    logstash_public_host: str = ...\n",
    "    logstash_host: str = ...\n",
    "    logstash_port: str = ...\n",
    "    kibana_public_host: str = ...\n",
    "    kibana_public_url: str = ...\n",
    "    elasticsearch_host: str = ...\n",
    "    es_url: str = ...\n",
    "    \n",
    "    yc_api_key: str = ...\n",
    "    reka_api_key: str = ...\n",
    "    claude_api_key: str = ...\n",
    "\n",
    "    def get_logging_level(self) -> int:\n",
    "        return log_levels.get(self.logging_level, logging.INFO)\n",
    "\n",
    "    class Config:\n",
    "        env_file = '../.env'\n",
    "\n",
    "\n",
    "settings = Settings()"
   ],
   "id": "3d8f8387564220c1",
   "outputs": [],
   "execution_count": 3
  },
  {
   "metadata": {},
   "cell_type": "code",
   "outputs": [],
   "execution_count": null,
   "source": "",
   "id": "e0f8afa21034962c"
  }
 ],
 "metadata": {
  "kernelspec": {
   "display_name": "Python 3",
   "language": "python",
   "name": "python3"
  },
  "language_info": {
   "codemirror_mode": {
    "name": "ipython",
    "version": 2
   },
   "file_extension": ".py",
   "mimetype": "text/x-python",
   "name": "python",
   "nbconvert_exporter": "python",
   "pygments_lexer": "ipython2",
   "version": "2.7.6"
  }
 },
 "nbformat": 4,
 "nbformat_minor": 5
}
