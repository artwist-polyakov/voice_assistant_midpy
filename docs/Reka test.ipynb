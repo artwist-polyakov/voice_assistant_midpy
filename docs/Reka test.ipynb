{
 "cells": [
  {
   "metadata": {},
   "cell_type": "markdown",
   "source": "# Формирование запроса к эластик на основе Reka\n",
   "id": "96712616773fdcbd"
  },
  {
   "metadata": {
    "ExecuteTime": {
     "end_time": "2024-05-27T17:53:42.990842Z",
     "start_time": "2024-05-27T17:53:42.902882Z"
    }
   },
   "cell_type": "code",
   "source": [
    "from pydantic_settings import BaseSettings\n",
    "import logging\n",
    "from dotenv import load_dotenv\n",
    "import os\n",
    "\n",
    "load_dotenv(dotenv_path='../.env')\n",
    "\n",
    "log_levels = {\n",
    "    'DEBUG': logging.DEBUG,\n",
    "    'INFO': logging.INFO,\n",
    "    'WARNING': logging.WARNING,\n",
    "    'ERROR': logging.ERROR\n",
    "}\n",
    "\n",
    "\n",
    "\n",
    "class Settings(BaseSettings):\n",
    "    api_name: str = \"NLP API\"\n",
    "    logging_level: str = \"INFO\"\n",
    "\n",
    "    sentry_dsn: str = ...\n",
    "    sentry_enable_tracing: bool = True\n",
    "\n",
    "    elastic_host: str = ...\n",
    "    elastic_port: int = 9200\n",
    "    \n",
    "    project_name: str = ...\n",
    "    sqlite_path: str = ...\n",
    "    postgres_version: str = ...\n",
    "    postgres_ports: str = ...\n",
    "    postgres_port: str = ...\n",
    "    postgres_host: str = ...\n",
    "    postgres_user: str = ...\n",
    "    postgres_password: str = ...\n",
    "    postgres_schema_2: str = ...\n",
    "    postgres_db: str = ...\n",
    "    postgres_name: str = ...\n",
    "    elastic_movies_index: str = ...\n",
    "    stack_version: str = ...\n",
    "    elastic_cluster_name: str = ...\n",
    "    memory_lock: str = ...\n",
    "    elastic_ports: str = ...\n",
    "    redis_ports: str = ...\n",
    "    redis_host: str = ...\n",
    "    redis_port: str = ...\n",
    "    logstash_ports1: str = ...\n",
    "    logstash_ports2: str = ...\n",
    "    logstash_ports3: str = ...\n",
    "    kibana_ports: str = ...\n",
    "    es_public_host: str = ...\n",
    "    logstash_public_host: str = ...\n",
    "    logstash_host: str = ...\n",
    "    logstash_port: str = ...\n",
    "    kibana_public_host: str = ...\n",
    "    kibana_public_url: str = ...\n",
    "    elasticsearch_host: str = ...\n",
    "    es_url: str = ...\n",
    "    \n",
    "    yc_api_key: str = ...\n",
    "    reka_api_key: str = ...\n",
    "\n",
    "    def get_logging_level(self) -> int:\n",
    "        return log_levels.get(self.logging_level, logging.INFO)\n",
    "\n",
    "    class Config:\n",
    "        env_file = '../.env'\n",
    "\n",
    "\n",
    "settings = Settings()\n",
    "\n"
   ],
   "id": "91043e9110b1c2fb",
   "outputs": [],
   "execution_count": 1
  },
  {
   "metadata": {
    "ExecuteTime": {
     "end_time": "2024-05-27T17:54:28.069021Z",
     "start_time": "2024-05-27T17:54:28.004729Z"
    }
   },
   "cell_type": "code",
   "source": [
    "import reka\n",
    "reka.API_KEY = settings.reka_api_key"
   ],
   "id": "ceb52f733cf67a26",
   "outputs": [],
   "execution_count": 2
  },
  {
   "metadata": {
    "ExecuteTime": {
     "end_time": "2024-05-27T17:56:16.945784Z",
     "start_time": "2024-05-27T17:56:16.937593Z"
    }
   },
   "cell_type": "code",
   "source": [
    "test = \"request is {}\"\n",
    "print (test.format(\"sasha\"))"
   ],
   "id": "4146aac21722723e",
   "outputs": [
    {
     "name": "stdout",
     "output_type": "stream",
     "text": [
      "request is sasha\n"
     ]
    }
   ],
   "execution_count": 3
  },
  {
   "metadata": {
    "ExecuteTime": {
     "end_time": "2024-05-27T18:07:20.482331Z",
     "start_time": "2024-05-27T18:07:20.475420Z"
    }
   },
   "cell_type": "code",
   "source": [
    "\n",
    "template = \"\"\"\n",
    "\n",
    "You are an assistant that converts natural language queries into Elasticsearch queries.\n",
    "Convert the following natural language query to an Elasticsearch query:\n",
    "\n",
    "Query: {}\n",
    "\n",
    "Please translate any lanquage to english because database language is english. Write please only the Elasticsearch query.\n",
    "\n",
    "There are 3 indices: movies, genres and persons. Persons could be directors or actors.\n",
    "\n",
    "movies index schema:\n",
    "\n",
    "{}\n",
    "\n",
    "genres index schema:\n",
    "\n",
    "{}\n",
    "\n",
    "persons index schema:\n",
    "\n",
    "{}\n",
    "\n",
    "\"\"\""
   ],
   "id": "3e9457019c7c1999",
   "outputs": [],
   "execution_count": 10
  },
  {
   "metadata": {
    "ExecuteTime": {
     "end_time": "2024-05-27T18:07:39.714158Z",
     "start_time": "2024-05-27T18:07:22.093199Z"
    }
   },
   "cell_type": "code",
   "source": [
    "import json\n",
    "from docs.elastic_shemas_config import MOVIES_INDEX_SCHEMA, GENRES_INDEX_SCHEMA, PERSONS_INDEX_SCHEMA\n",
    "\n",
    "query = \"Фильмы джоржа лукоса про войну\"\n",
    "result  = reka.chat(template.format(query, MOVIES_INDEX_SCHEMA, GENRES_INDEX_SCHEMA, PERSONS_INDEX_SCHEMA))\n",
    "print(json.loads(result['text']))"
   ],
   "id": "b7bd57d61d6ed159",
   "outputs": [
    {
     "name": "stdout",
     "output_type": "stream",
     "text": [
      "{'query': {'bool': {'must': [{'match': {'title': {'query': 'Фильмы джоржа лукоса про войну', 'analyzer': 'ru_en'}}}, {'match': {'description': {'query': 'Фильмы джоржа лукоса про войну', 'analyzer': 'ru_en'}}}, {'nested': {'path': 'directors', 'query': {'bool': {'must': [{'match': {'directors.name': {'query': 'джорж лукос', 'analyzer': 'ru_en'}}}]}}, 'score_mode': 'none'}}, {'nested': {'path': 'writers', 'query': {'bool': {'must': [{'match': {'writers.name': {'query': 'джорж лукос', 'analyzer': 'ru_en'}}}]}}, 'score_mode': 'none'}}, {'nested': {'path': 'actors', 'query': {'bool': {'must': [{'match': {'actors.name': {'query': 'джорж лукос', 'analyzer': 'ru_en'}}}]}}, 'score_mode': 'none'}}]}}}\n"
     ]
    }
   ],
   "execution_count": 11
  },
  {
   "metadata": {
    "ExecuteTime": {
     "end_time": "2024-05-27T18:31:04.319495Z",
     "start_time": "2024-05-27T18:31:04.302973Z"
    }
   },
   "cell_type": "code",
   "source": "print(template.format(query, MOVIES_INDEX_SCHEMA, GENRES_INDEX_SCHEMA, PERSONS_INDEX_SCHEMA))",
   "id": "c4b6379dcde077ab",
   "outputs": [
    {
     "name": "stdout",
     "output_type": "stream",
     "text": [
      "\n",
      "\n",
      "You are an assistant that converts natural language queries into Elasticsearch queries.\n",
      "Convert the following natural language query to an Elasticsearch query:\n",
      "\n",
      "Query: Фильмы джоржа лукоса про войну\n",
      "\n",
      "Please translate any lanquage to english because database language is english. Write please only the Elasticsearch query.\n",
      "\n",
      "There are 3 indices: movies, genres and persons. Persons could be directors or actors.\n",
      "\n",
      "movies index schema:\n",
      "\n",
      "{'settings': {'refresh_interval': '1s', 'analysis': {'filter': {'english_stop': {'type': 'stop', 'stopwords': '_english_'}, 'english_stemmer': {'type': 'stemmer', 'language': 'english'}, 'english_possessive_stemmer': {'type': 'stemmer', 'language': 'possessive_english'}, 'russian_stop': {'type': 'stop', 'stopwords': '_russian_'}, 'russian_stemmer': {'type': 'stemmer', 'language': 'russian'}}, 'analyzer': {'ru_en': {'tokenizer': 'standard', 'filter': ['lowercase', 'english_stop', 'english_stemmer', 'english_possessive_stemmer', 'russian_stop', 'russian_stemmer']}}}}, 'mappings': {'dynamic': 'strict', 'properties': {'id': {'type': 'keyword'}, 'imdb_rating': {'type': 'float'}, 'genres': {'type': 'nested', 'dynamic': 'strict', 'properties': {'id': {'type': 'keyword'}, 'name': {'type': 'text', 'analyzer': 'ru_en'}, 'description': {'type': 'text', 'analyzer': 'ru_en'}}}, 'title': {'type': 'text', 'analyzer': 'ru_en', 'fields': {'raw': {'type': 'keyword'}}}, 'description': {'type': 'text', 'analyzer': 'ru_en'}, 'directors_names': {'type': 'text', 'analyzer': 'ru_en'}, 'actors_names': {'type': 'text', 'analyzer': 'ru_en'}, 'writers_names': {'type': 'text', 'analyzer': 'ru_en'}, 'actors': {'type': 'nested', 'dynamic': 'strict', 'properties': {'id': {'type': 'keyword'}, 'name': {'type': 'text', 'analyzer': 'ru_en'}}}, 'writers': {'type': 'nested', 'dynamic': 'strict', 'properties': {'id': {'type': 'keyword'}, 'name': {'type': 'text', 'analyzer': 'ru_en'}}}, 'directors': {'type': 'nested', 'dynamic': 'strict', 'properties': {'id': {'type': 'keyword'}, 'name': {'type': 'text', 'analyzer': 'ru_en'}}}}}}\n",
      "\n",
      "genres index schema:\n",
      "\n",
      "{'settings': {'refresh_interval': '1s', 'analysis': {'filter': {'english_stop': {'type': 'stop', 'stopwords': '_english_'}, 'english_stemmer': {'type': 'stemmer', 'language': 'english'}, 'english_possessive_stemmer': {'type': 'stemmer', 'language': 'possessive_english'}, 'russian_stop': {'type': 'stop', 'stopwords': '_russian_'}, 'russian_stemmer': {'type': 'stemmer', 'language': 'russian'}}, 'analyzer': {'ru_en': {'tokenizer': 'standard', 'filter': ['lowercase', 'english_stop', 'english_stemmer', 'english_possessive_stemmer', 'russian_stop', 'russian_stemmer']}}}}, 'mappings': {'dynamic': 'strict', 'properties': {'id': {'type': 'keyword'}, 'name': {'type': 'text', 'analyzer': 'ru_en', 'fields': {'raw': {'type': 'keyword'}}}, 'description': {'type': 'text', 'analyzer': 'ru_en'}}}}\n",
      "\n",
      "persons index schema:\n",
      "\n",
      "{'settings': {'refresh_interval': '1s', 'analysis': {'filter': {'english_stop': {'type': 'stop', 'stopwords': '_english_'}, 'english_stemmer': {'type': 'stemmer', 'language': 'english'}, 'english_possessive_stemmer': {'type': 'stemmer', 'language': 'possessive_english'}, 'russian_stop': {'type': 'stop', 'stopwords': '_russian_'}, 'russian_stemmer': {'type': 'stemmer', 'language': 'russian'}}, 'analyzer': {'ru_en': {'tokenizer': 'standard', 'filter': ['lowercase', 'english_stop', 'english_stemmer', 'english_possessive_stemmer', 'russian_stop', 'russian_stemmer']}}}}, 'mappings': {'dynamic': 'strict', 'properties': {'id': {'type': 'keyword'}, 'full_name': {'type': 'text', 'analyzer': 'ru_en', 'fields': {'raw': {'type': 'keyword'}}}}}}\n",
      "\n",
      "\n"
     ]
    }
   ],
   "execution_count": 12
  },
  {
   "metadata": {},
   "cell_type": "code",
   "outputs": [],
   "execution_count": null,
   "source": "",
   "id": "f164371ece332164"
  }
 ],
 "metadata": {
  "kernelspec": {
   "display_name": "Python 3",
   "language": "python",
   "name": "python3"
  },
  "language_info": {
   "codemirror_mode": {
    "name": "ipython",
    "version": 2
   },
   "file_extension": ".py",
   "mimetype": "text/x-python",
   "name": "python",
   "nbconvert_exporter": "python",
   "pygments_lexer": "ipython2",
   "version": "2.7.6"
  }
 },
 "nbformat": 4,
 "nbformat_minor": 5
}
